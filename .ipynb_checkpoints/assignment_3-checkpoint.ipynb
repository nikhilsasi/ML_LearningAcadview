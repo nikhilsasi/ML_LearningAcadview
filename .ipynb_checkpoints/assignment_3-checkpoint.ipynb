{
 "cells": [
  {
   "cell_type": "code",
   "execution_count": 5,
   "metadata": {},
   "outputs": [
    {
     "name": "stdout",
     "output_type": "stream",
     "text": [
      "0.030303030303\n"
     ]
    }
   ],
   "source": [
    "#question1\n",
    "''' p(B|A) = p(A∩B)/p(A)\n",
    "    p(B|A)=  p(A|B)*p(B)/p(A)'''\n",
    "\n",
    "pA = 11.0/36\n",
    "pB= 6.0/36\n",
    "pAB= 2.0/36\n",
    "\n",
    "def prob(a,b,c):\n",
    "\n",
    "  pBA= c*b/a\n",
    "  print(pBA)\n",
    "                \n",
    "prob(pA,pB,pAB)"
   ]
  },
  {
   "cell_type": "code",
   "execution_count": 7,
   "metadata": {},
   "outputs": [
    {
     "name": "stdout",
     "output_type": "stream",
     "text": [
      "0.583333333333\n"
     ]
    }
   ],
   "source": [
    "#question2\n",
    "'''probability of bag1  1/2\n",
    "   probability of bag2  1/2\n",
    "   probability of black ball from bag1 6/10\n",
    "   probability of black ball from bag1 3/7\n",
    "   p(e1/A)=(p(e1)*p(a/e1))/(p(e1)*p(a/e1))+(p(e2)*p(a/e1))  '''\n",
    "\n",
    "p =6.0/10*1.0/2 / (6.0/10*1.0/2 + 3.0/7*1.0/2)\n",
    "print(p)"
   ]
  },
  {
   "cell_type": "code",
   "execution_count": 9,
   "metadata": {},
   "outputs": [
    {
     "name": "stdout",
     "output_type": "stream",
     "text": [
      "0.285714285714\n"
     ]
    }
   ],
   "source": [
    "#question3\n",
    "''' probability of 4      1/6\n",
    "    probability of not 4  5/6\n",
    "    probability of truth  2/3\n",
    "    probability of lie    1/3\n",
    "    probability that the number obtained is actually a four  \n",
    "    p(e1/A)=(p(e1)*p(a/e1))/(p(e1)*p(a/e1))+(p(e2)*p(a/e1))   '''\n",
    "\n",
    "p = 1.0/6 * 2.0/3 / (1.0/6*2.0/3 + 5.0/6*1.0/3)\n",
    "print(p)\n"
   ]
  },
  {
   "cell_type": "code",
   "execution_count": null,
   "metadata": {},
   "outputs": [],
   "source": []
  }
 ],
 "metadata": {
  "kernelspec": {
   "display_name": "Python 3",
   "language": "python",
   "name": "python3"
  },
  "language_info": {
   "codemirror_mode": {
    "name": "ipython",
    "version": 3
   },
   "file_extension": ".py",
   "mimetype": "text/x-python",
   "name": "python",
   "nbconvert_exporter": "python",
   "pygments_lexer": "ipython3",
   "version": "3.6.5"
  }
 },
 "nbformat": 4,
 "nbformat_minor": 2
}
