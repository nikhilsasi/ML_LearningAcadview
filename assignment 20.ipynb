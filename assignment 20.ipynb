{
 "cells": [
  {
   "cell_type": "markdown",
   "metadata": {},
   "source": [
    "# INTRO TO DEEP LEARNING ASSIGNMENT"
   ]
  },
  {
   "cell_type": "markdown",
   "metadata": {},
   "source": [
    "# Q1.a, b, and c are inputs\n",
    "# u = a * b\n",
    "# v = a * c\n",
    "# w = b + c\n",
    "# F = u + v - w"
   ]
  },
  {
   "cell_type": "markdown",
   "metadata": {},
   "source": [
    "# Ans \n",
    "F = (b+c)(a-1)"
   ]
  },
  {
   "cell_type": "markdown",
   "metadata": {},
   "source": [
    "# Q2.The input values and weights, along with the activation function, are given below. Find the values of x and output (f(x)). \n",
    "# If bias is -1.1, then what is the output? Is there any change? Why do we need bias? "
   ]
  },
  {
   "cell_type": "markdown",
   "metadata": {},
   "source": [
    "# Ans \n",
    "x = (-0.162 + 21.5 + 0.0028)\n",
    "\n",
    "x = 21.3408\n",
    "\n",
    "f(x) = 0.999999999460727442636\n",
    "\n",
    "If bias is -1.1\n",
    "\n",
    "x = (-1.1 -0.162 + 21.5 + 0.0028)\n",
    "\n",
    "x = 20.2408\n",
    "\n",
    "f(x) = 0.9999999983799357072713\n",
    "\n",
    "When we change the bias to -1.1, then the value of x changes and becomes 20.2408 \n",
    "which also changes value of f(x) to 0.9999999983799357072713\n",
    "\n",
    "A bias value allows you to shift the activation function to the left or right. \n",
    "That's useful, but what if you wanted the network to output 0 when x is 2? \n",
    "You want to be able to shift the entire curve to the right.\n",
    "That's exactly what the bias allows you to do, If we add a bias to that network."
   ]
  },
  {
   "cell_type": "code",
   "execution_count": null,
   "metadata": {},
   "outputs": [],
   "source": []
  }
 ],
 "metadata": {
  "kernelspec": {
   "display_name": "Python 3",
   "language": "python",
   "name": "python3"
  },
  "language_info": {
   "codemirror_mode": {
    "name": "ipython",
    "version": 3
   },
   "file_extension": ".py",
   "mimetype": "text/x-python",
   "name": "python",
   "nbconvert_exporter": "python",
   "pygments_lexer": "ipython3",
   "version": "3.6.5"
  }
 },
 "nbformat": 4,
 "nbformat_minor": 2
}
