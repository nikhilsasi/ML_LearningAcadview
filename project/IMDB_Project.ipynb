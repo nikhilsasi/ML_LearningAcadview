{
 "cells": [
  {
   "cell_type": "markdown",
   "metadata": {},
   "source": [
    "# IMDB review classifier using word embeddings\n",
    "### Dataset- https://drive.google.com/file/d/1zXOovxa6RSqmIOaFu9RNlluVlmyBfJ0M/view?usp=sharing\n"
   ]
  },
  {
   "cell_type": "code",
   "execution_count": 1,
   "metadata": {},
   "outputs": [],
   "source": [
    "import pandas as pd\n"
   ]
  },
  {
   "cell_type": "markdown",
   "metadata": {},
   "source": [
    "### Reading table "
   ]
  },
  {
   "cell_type": "code",
   "execution_count": 2,
   "metadata": {},
   "outputs": [
    {
     "data": {
      "text/html": [
       "<div>\n",
       "<style scoped>\n",
       "    .dataframe tbody tr th:only-of-type {\n",
       "        vertical-align: middle;\n",
       "    }\n",
       "\n",
       "    .dataframe tbody tr th {\n",
       "        vertical-align: top;\n",
       "    }\n",
       "\n",
       "    .dataframe thead th {\n",
       "        text-align: right;\n",
       "    }\n",
       "</style>\n",
       "<table border=\"1\" class=\"dataframe\">\n",
       "  <thead>\n",
       "    <tr style=\"text-align: right;\">\n",
       "      <th></th>\n",
       "      <th>Review</th>\n",
       "      <th>Sentiments</th>\n",
       "    </tr>\n",
       "  </thead>\n",
       "  <tbody>\n",
       "    <tr>\n",
       "      <th>0</th>\n",
       "      <td>A very, very, very slow-moving, aimless movie ...</td>\n",
       "      <td>0</td>\n",
       "    </tr>\n",
       "    <tr>\n",
       "      <th>1</th>\n",
       "      <td>Not sure who was more lost - the flat characte...</td>\n",
       "      <td>0</td>\n",
       "    </tr>\n",
       "    <tr>\n",
       "      <th>2</th>\n",
       "      <td>Attempting artiness with black &amp; white and cle...</td>\n",
       "      <td>0</td>\n",
       "    </tr>\n",
       "    <tr>\n",
       "      <th>3</th>\n",
       "      <td>Very little music or anything to speak of.</td>\n",
       "      <td>0</td>\n",
       "    </tr>\n",
       "    <tr>\n",
       "      <th>4</th>\n",
       "      <td>The best scene in the movie was when Gerardo i...</td>\n",
       "      <td>1</td>\n",
       "    </tr>\n",
       "    <tr>\n",
       "      <th>5</th>\n",
       "      <td>The rest of the movie lacks art, charm, meanin...</td>\n",
       "      <td>0</td>\n",
       "    </tr>\n",
       "    <tr>\n",
       "      <th>6</th>\n",
       "      <td>Wasted two hours.</td>\n",
       "      <td>0</td>\n",
       "    </tr>\n",
       "    <tr>\n",
       "      <th>7</th>\n",
       "      <td>Saw the movie today and thought it was a good ...</td>\n",
       "      <td>1</td>\n",
       "    </tr>\n",
       "    <tr>\n",
       "      <th>8</th>\n",
       "      <td>A bit predictable.</td>\n",
       "      <td>0</td>\n",
       "    </tr>\n",
       "    <tr>\n",
       "      <th>9</th>\n",
       "      <td>Loved the casting of Jimmy Buffet as the scien...</td>\n",
       "      <td>1</td>\n",
       "    </tr>\n",
       "    <tr>\n",
       "      <th>10</th>\n",
       "      <td>And those baby owls were adorable.</td>\n",
       "      <td>1</td>\n",
       "    </tr>\n",
       "    <tr>\n",
       "      <th>11</th>\n",
       "      <td>The movie showed a lot of Florida at it's best...</td>\n",
       "      <td>1</td>\n",
       "    </tr>\n",
       "    <tr>\n",
       "      <th>12</th>\n",
       "      <td>The Songs Were The Best And The Muppets Were S...</td>\n",
       "      <td>1</td>\n",
       "    </tr>\n",
       "    <tr>\n",
       "      <th>13</th>\n",
       "      <td>It Was So Cool.</td>\n",
       "      <td>1</td>\n",
       "    </tr>\n",
       "    <tr>\n",
       "      <th>14</th>\n",
       "      <td>This is a very \"right on case\" movie that deli...</td>\n",
       "      <td>1</td>\n",
       "    </tr>\n",
       "    <tr>\n",
       "      <th>15</th>\n",
       "      <td>It had some average acting from the main perso...</td>\n",
       "      <td>0</td>\n",
       "    </tr>\n",
       "    <tr>\n",
       "      <th>16</th>\n",
       "      <td>This review is long overdue, since I consider ...</td>\n",
       "      <td>1</td>\n",
       "    </tr>\n",
       "    <tr>\n",
       "      <th>17</th>\n",
       "      <td>I'll put this gem up against any movie in term...</td>\n",
       "      <td>1</td>\n",
       "    </tr>\n",
       "    <tr>\n",
       "      <th>18</th>\n",
       "      <td>It's practically perfect in all of them  a tr...</td>\n",
       "      <td>1</td>\n",
       "    </tr>\n",
       "    <tr>\n",
       "      <th>19</th>\n",
       "      <td>The structure of this film is easily the most...</td>\n",
       "      <td>0</td>\n",
       "    </tr>\n",
       "    <tr>\n",
       "      <th>20</th>\n",
       "      <td>This if the first movie I've given a 10 to in ...</td>\n",
       "      <td>1</td>\n",
       "    </tr>\n",
       "    <tr>\n",
       "      <th>21</th>\n",
       "      <td>If there was ever a movie that needed word-of-...</td>\n",
       "      <td>1</td>\n",
       "    </tr>\n",
       "    <tr>\n",
       "      <th>22</th>\n",
       "      <td>Overall, the film is interesting and thought-p...</td>\n",
       "      <td>1</td>\n",
       "    </tr>\n",
       "    <tr>\n",
       "      <th>23</th>\n",
       "      <td>Plus, it was well-paced and suited its relativ...</td>\n",
       "      <td>1</td>\n",
       "    </tr>\n",
       "    <tr>\n",
       "      <th>24</th>\n",
       "      <td>Give this one a look.</td>\n",
       "      <td>1</td>\n",
       "    </tr>\n",
       "    <tr>\n",
       "      <th>25</th>\n",
       "      <td>I gave it a 10</td>\n",
       "      <td>1</td>\n",
       "    </tr>\n",
       "    <tr>\n",
       "      <th>26</th>\n",
       "      <td>The Wind and the Lion is well written and supe...</td>\n",
       "      <td>1</td>\n",
       "    </tr>\n",
       "    <tr>\n",
       "      <th>27</th>\n",
       "      <td>It is a true classic.</td>\n",
       "      <td>1</td>\n",
       "    </tr>\n",
       "    <tr>\n",
       "      <th>28</th>\n",
       "      <td>It actually turned out to be pretty decent as ...</td>\n",
       "      <td>1</td>\n",
       "    </tr>\n",
       "    <tr>\n",
       "      <th>29</th>\n",
       "      <td>Definitely worth checking out.</td>\n",
       "      <td>1</td>\n",
       "    </tr>\n",
       "    <tr>\n",
       "      <th>...</th>\n",
       "      <td>...</td>\n",
       "      <td>...</td>\n",
       "    </tr>\n",
       "    <tr>\n",
       "      <th>718</th>\n",
       "      <td>Enough can not be said of the remarkable anima...</td>\n",
       "      <td>1</td>\n",
       "    </tr>\n",
       "    <tr>\n",
       "      <th>719</th>\n",
       "      <td>The art style has the appearance of crayon/pen...</td>\n",
       "      <td>1</td>\n",
       "    </tr>\n",
       "    <tr>\n",
       "      <th>720</th>\n",
       "      <td>If you act in such a film, you should be glad ...</td>\n",
       "      <td>0</td>\n",
       "    </tr>\n",
       "    <tr>\n",
       "      <th>721</th>\n",
       "      <td>This one wants to surf on the small wave of sp...</td>\n",
       "      <td>0</td>\n",
       "    </tr>\n",
       "    <tr>\n",
       "      <th>722</th>\n",
       "      <td>If you haven't choked in your own vomit by the...</td>\n",
       "      <td>0</td>\n",
       "    </tr>\n",
       "    <tr>\n",
       "      <th>723</th>\n",
       "      <td>Still, it makes up for all of this with a supe...</td>\n",
       "      <td>1</td>\n",
       "    </tr>\n",
       "    <tr>\n",
       "      <th>724</th>\n",
       "      <td>Just consider the excellent story, solid actin...</td>\n",
       "      <td>1</td>\n",
       "    </tr>\n",
       "    <tr>\n",
       "      <th>725</th>\n",
       "      <td>Instead, we got a bore fest about a whiny, spo...</td>\n",
       "      <td>0</td>\n",
       "    </tr>\n",
       "    <tr>\n",
       "      <th>726</th>\n",
       "      <td>Then I watched it again two Sundays ago (March...</td>\n",
       "      <td>1</td>\n",
       "    </tr>\n",
       "    <tr>\n",
       "      <th>727</th>\n",
       "      <td>It is a very well acted and done TV Movie.</td>\n",
       "      <td>1</td>\n",
       "    </tr>\n",
       "    <tr>\n",
       "      <th>728</th>\n",
       "      <td>Judith Light is one of my favorite actresses a...</td>\n",
       "      <td>1</td>\n",
       "    </tr>\n",
       "    <tr>\n",
       "      <th>729</th>\n",
       "      <td>I keep watching it over and over.</td>\n",
       "      <td>1</td>\n",
       "    </tr>\n",
       "    <tr>\n",
       "      <th>730</th>\n",
       "      <td>It's a sad movie, but very good.</td>\n",
       "      <td>1</td>\n",
       "    </tr>\n",
       "    <tr>\n",
       "      <th>731</th>\n",
       "      <td>If you have not seen this movie, I definitely ...</td>\n",
       "      <td>1</td>\n",
       "    </tr>\n",
       "    <tr>\n",
       "      <th>732</th>\n",
       "      <td>She is as lovely as usual, this cutie!</td>\n",
       "      <td>1</td>\n",
       "    </tr>\n",
       "    <tr>\n",
       "      <th>733</th>\n",
       "      <td>Still it's quite interesting and entertaining ...</td>\n",
       "      <td>1</td>\n",
       "    </tr>\n",
       "    <tr>\n",
       "      <th>734</th>\n",
       "      <td>;) Recommend with confidence!</td>\n",
       "      <td>1</td>\n",
       "    </tr>\n",
       "    <tr>\n",
       "      <th>735</th>\n",
       "      <td>This movie is well-balanced with comedy and dr...</td>\n",
       "      <td>1</td>\n",
       "    </tr>\n",
       "    <tr>\n",
       "      <th>736</th>\n",
       "      <td>It was a riot to see Hugo Weaving play a sex-o...</td>\n",
       "      <td>1</td>\n",
       "    </tr>\n",
       "    <tr>\n",
       "      <th>737</th>\n",
       "      <td>:) Anyway, the plot flowed smoothly and the ma...</td>\n",
       "      <td>1</td>\n",
       "    </tr>\n",
       "    <tr>\n",
       "      <th>738</th>\n",
       "      <td>The opening sequence of this gem is a classic,...</td>\n",
       "      <td>1</td>\n",
       "    </tr>\n",
       "    <tr>\n",
       "      <th>739</th>\n",
       "      <td>Fans of the genre will be in heaven.</td>\n",
       "      <td>1</td>\n",
       "    </tr>\n",
       "    <tr>\n",
       "      <th>740</th>\n",
       "      <td>Lange had become a great actress.</td>\n",
       "      <td>1</td>\n",
       "    </tr>\n",
       "    <tr>\n",
       "      <th>741</th>\n",
       "      <td>It looked like a wonderful story.</td>\n",
       "      <td>1</td>\n",
       "    </tr>\n",
       "    <tr>\n",
       "      <th>742</th>\n",
       "      <td>I never walked out of a movie faster.</td>\n",
       "      <td>0</td>\n",
       "    </tr>\n",
       "    <tr>\n",
       "      <th>743</th>\n",
       "      <td>I just got bored watching Jessice Lange take h...</td>\n",
       "      <td>0</td>\n",
       "    </tr>\n",
       "    <tr>\n",
       "      <th>744</th>\n",
       "      <td>Unfortunately, any virtue in this film's produ...</td>\n",
       "      <td>0</td>\n",
       "    </tr>\n",
       "    <tr>\n",
       "      <th>745</th>\n",
       "      <td>In a word, it is embarrassing.</td>\n",
       "      <td>0</td>\n",
       "    </tr>\n",
       "    <tr>\n",
       "      <th>746</th>\n",
       "      <td>Exceptionally bad!</td>\n",
       "      <td>0</td>\n",
       "    </tr>\n",
       "    <tr>\n",
       "      <th>747</th>\n",
       "      <td>All in all its an insult to one's intelligence...</td>\n",
       "      <td>0</td>\n",
       "    </tr>\n",
       "  </tbody>\n",
       "</table>\n",
       "<p>748 rows × 2 columns</p>\n",
       "</div>"
      ],
      "text/plain": [
       "                                                Review  Sentiments\n",
       "0    A very, very, very slow-moving, aimless movie ...           0\n",
       "1    Not sure who was more lost - the flat characte...           0\n",
       "2    Attempting artiness with black & white and cle...           0\n",
       "3         Very little music or anything to speak of.             0\n",
       "4    The best scene in the movie was when Gerardo i...           1\n",
       "5    The rest of the movie lacks art, charm, meanin...           0\n",
       "6                                  Wasted two hours.             0\n",
       "7    Saw the movie today and thought it was a good ...           1\n",
       "8                                 A bit predictable.             0\n",
       "9    Loved the casting of Jimmy Buffet as the scien...           1\n",
       "10                And those baby owls were adorable.             1\n",
       "11   The movie showed a lot of Florida at it's best...           1\n",
       "12   The Songs Were The Best And The Muppets Were S...           1\n",
       "13                                   It Was So Cool.             1\n",
       "14   This is a very \"right on case\" movie that deli...           1\n",
       "15   It had some average acting from the main perso...           0\n",
       "16   This review is long overdue, since I consider ...           1\n",
       "17   I'll put this gem up against any movie in term...           1\n",
       "18   It's practically perfect in all of them  a tr...           1\n",
       "19    The structure of this film is easily the most...           0\n",
       "20   This if the first movie I've given a 10 to in ...           1\n",
       "21   If there was ever a movie that needed word-of-...           1\n",
       "22   Overall, the film is interesting and thought-p...           1\n",
       "23   Plus, it was well-paced and suited its relativ...           1\n",
       "24                             Give this one a look.             1\n",
       "25                                    I gave it a 10             1\n",
       "26   The Wind and the Lion is well written and supe...           1\n",
       "27                             It is a true classic.             1\n",
       "28   It actually turned out to be pretty decent as ...           1\n",
       "29                    Definitely worth checking out.             1\n",
       "..                                                 ...         ...\n",
       "718  Enough can not be said of the remarkable anima...           1\n",
       "719  The art style has the appearance of crayon/pen...           1\n",
       "720  If you act in such a film, you should be glad ...           0\n",
       "721  This one wants to surf on the small wave of sp...           0\n",
       "722  If you haven't choked in your own vomit by the...           0\n",
       "723  Still, it makes up for all of this with a supe...           1\n",
       "724  Just consider the excellent story, solid actin...           1\n",
       "725  Instead, we got a bore fest about a whiny, spo...           0\n",
       "726  Then I watched it again two Sundays ago (March...           1\n",
       "727       It is a very well acted and done TV Movie.             1\n",
       "728  Judith Light is one of my favorite actresses a...           1\n",
       "729                I keep watching it over and over.             1\n",
       "730                 It's a sad movie, but very good.             1\n",
       "731  If you have not seen this movie, I definitely ...           1\n",
       "732           She is as lovely as usual, this cutie!             1\n",
       "733  Still it's quite interesting and entertaining ...           1\n",
       "734                    ;) Recommend with confidence!             1\n",
       "735  This movie is well-balanced with comedy and dr...           1\n",
       "736  It was a riot to see Hugo Weaving play a sex-o...           1\n",
       "737  :) Anyway, the plot flowed smoothly and the ma...           1\n",
       "738  The opening sequence of this gem is a classic,...           1\n",
       "739             Fans of the genre will be in heaven.             1\n",
       "740                Lange had become a great actress.             1\n",
       "741                It looked like a wonderful story.             1\n",
       "742            I never walked out of a movie faster.             0\n",
       "743  I just got bored watching Jessice Lange take h...           0\n",
       "744  Unfortunately, any virtue in this film's produ...           0\n",
       "745                   In a word, it is embarrassing.             0\n",
       "746                               Exceptionally bad!             0\n",
       "747  All in all its an insult to one's intelligence...           0\n",
       "\n",
       "[748 rows x 2 columns]"
      ]
     },
     "execution_count": 2,
     "metadata": {},
     "output_type": "execute_result"
    }
   ],
   "source": [
    "df = pd.read_table('imdb_labelled.txt', header = None)\n",
    "df.columns=['Review','Sentiments']\n",
    "df"
   ]
  },
  {
   "cell_type": "code",
   "execution_count": 3,
   "metadata": {},
   "outputs": [],
   "source": [
    "with open(\"imdb_labelled.txt\",\"r\") as text_file:\n",
    "    lines = text_file.read().split('\\n')"
   ]
  },
  {
   "cell_type": "code",
   "execution_count": 4,
   "metadata": {},
   "outputs": [
    {
     "data": {
      "text/plain": [
       "['Not sure who was more lost - the flat characters or the audience, nearly half of whom walked out.  \\t0',\n",
       " 'Attempting artiness with black & white and clever camera angles, the movie disappointed - became even more ridiculous - as the acting was poor and the plot and lines almost non-existent.  \\t0',\n",
       " 'Very little music or anything to speak of.  \\t0',\n",
       " 'The best scene in the movie was when Gerardo is trying to find a song that keeps running through his head.  \\t1',\n",
       " \"The rest of the movie lacks art, charm, meaning... If it's about emptiness, it works I guess because it's empty.  \\t0\",\n",
       " 'Wasted two hours.  \\t0',\n",
       " 'Saw the movie today and thought it was a good effort, good messages for kids.  \\t1',\n",
       " 'A bit predictable.  \\t0',\n",
       " 'Loved the casting of Jimmy Buffet as the science teacher.  \\t1']"
      ]
     },
     "execution_count": 4,
     "metadata": {},
     "output_type": "execute_result"
    }
   ],
   "source": [
    "lines[1:10]"
   ]
  },
  {
   "cell_type": "markdown",
   "metadata": {},
   "source": [
    "### Splitting the dataset by tab and remove corrupted data if any or lines which are not tab seperated"
   ]
  },
  {
   "cell_type": "code",
   "execution_count": 5,
   "metadata": {},
   "outputs": [
    {
     "data": {
      "text/plain": [
       "[['Not sure who was more lost - the flat characters or the audience, nearly half of whom walked out.  ',\n",
       "  '0'],\n",
       " ['Attempting artiness with black & white and clever camera angles, the movie disappointed - became even more ridiculous - as the acting was poor and the plot and lines almost non-existent.  ',\n",
       "  '0'],\n",
       " ['Very little music or anything to speak of.  ', '0'],\n",
       " ['The best scene in the movie was when Gerardo is trying to find a song that keeps running through his head.  ',\n",
       "  '1'],\n",
       " [\"The rest of the movie lacks art, charm, meaning... If it's about emptiness, it works I guess because it's empty.  \",\n",
       "  '0'],\n",
       " ['Wasted two hours.  ', '0']]"
      ]
     },
     "execution_count": 5,
     "metadata": {},
     "output_type": "execute_result"
    }
   ],
   "source": [
    "lines = [line.split(\"\\t\") for line in lines if len(line.split(\"\\t\"))==2 and line.split(\"\\t\")[1]!='']\n",
    "lines[1:7]"
   ]
  },
  {
   "cell_type": "markdown",
   "metadata": {},
   "source": [
    "### Seperate the Reviews from Sentiments"
   ]
  },
  {
   "cell_type": "code",
   "execution_count": 6,
   "metadata": {},
   "outputs": [
    {
     "data": {
      "text/plain": [
       "['Not sure who was more lost - the flat characters or the audience, nearly half of whom walked out.  ',\n",
       " 'Attempting artiness with black & white and clever camera angles, the movie disappointed - became even more ridiculous - as the acting was poor and the plot and lines almost non-existent.  ',\n",
       " 'Very little music or anything to speak of.  ',\n",
       " 'The best scene in the movie was when Gerardo is trying to find a song that keeps running through his head.  ',\n",
       " \"The rest of the movie lacks art, charm, meaning... If it's about emptiness, it works I guess because it's empty.  \",\n",
       " 'Wasted two hours.  ']"
      ]
     },
     "execution_count": 6,
     "metadata": {},
     "output_type": "execute_result"
    }
   ],
   "source": [
    "train_doc = [line[0] for line in lines ]\n",
    "train_doc[1:7]"
   ]
  },
  {
   "cell_type": "markdown",
   "metadata": {},
   "source": [
    "# Seperate the sentiment from Reviews"
   ]
  },
  {
   "cell_type": "code",
   "execution_count": 7,
   "metadata": {},
   "outputs": [
    {
     "data": {
      "text/plain": [
       "[0, 0, 0, 1, 0, 0, 1, 0, 1, 1, 1, 1, 1, 1, 0, 1, 1, 1, 1]"
      ]
     },
     "execution_count": 7,
     "metadata": {},
     "output_type": "execute_result"
    }
   ],
   "source": [
    "train_labels = [int(line[1]) for line in lines]\n",
    "train_labels[1:20]"
   ]
  },
  {
   "cell_type": "markdown",
   "metadata": {},
   "source": [
    "# \"Using GloVe word embeddings(TfidVectorized) for the text for unweighted and normalized sentence vectors\"\n"
   ]
  },
  {
   "cell_type": "code",
   "execution_count": 8,
   "metadata": {},
   "outputs": [],
   "source": [
    "from sklearn.feature_extraction.text import TfidfVectorizer\n"
   ]
  },
  {
   "cell_type": "markdown",
   "metadata": {},
   "source": [
    "## Instatiate the Tfidfvectorizer"
   ]
  },
  {
   "cell_type": "code",
   "execution_count": 9,
   "metadata": {},
   "outputs": [],
   "source": [
    "Tfidf_vectorizer = TfidfVectorizer(binary='true')"
   ]
  },
  {
   "cell_type": "markdown",
   "metadata": {},
   "source": [
    "### Train the documents\n",
    "We use fit_transform() on the train data so that we learn the parameters of scaling on the train data and in the same time we scale the train data."
   ]
  },
  {
   "cell_type": "code",
   "execution_count": 10,
   "metadata": {},
   "outputs": [
    {
     "data": {
      "text/plain": [
       "<1000x3051 sparse matrix of type '<class 'numpy.float64'>'\n",
       "\twith 12667 stored elements in Compressed Sparse Row format>"
      ]
     },
     "execution_count": 10,
     "metadata": {},
     "output_type": "execute_result"
    }
   ],
   "source": [
    "train_documents = Tfidf_vectorizer.fit_transform(train_doc)\n",
    "train_documents"
   ]
  },
  {
   "cell_type": "code",
   "execution_count": 11,
   "metadata": {},
   "outputs": [
    {
     "name": "stdout",
     "output_type": "stream",
     "text": [
      "  (0, 2875)\t0.20820982640162744\n",
      "  (0, 2408)\t0.3240544027225203\n",
      "  (0, 1752)\t0.34234019020013984\n",
      "  (0, 92)\t0.3921365649590639\n",
      "  (0, 1750)\t0.14974731557628881\n",
      "  (0, 37)\t0.22173623283795857\n",
      "  (0, 749)\t0.3921365649590639\n",
      "  (0, 787)\t0.3921365649590639\n",
      "  (0, 3041)\t0.34234019020013984\n",
      "  (0, 1641)\t0.29041234203157174\n"
     ]
    }
   ],
   "source": [
    "print(train_documents[0])"
   ]
  },
  {
   "cell_type": "markdown",
   "metadata": {},
   "source": [
    "### Joining the similar word and Counting the repeated word "
   ]
  },
  {
   "cell_type": "code",
   "execution_count": 12,
   "metadata": {},
   "outputs": [
    {
     "data": {
      "text/plain": [
       "{'very': 2875,\n",
       " 'slow': 2408,\n",
       " 'moving': 1752,\n",
       " 'aimless': 92,\n",
       " 'movie': 1750,\n",
       " 'about': 37,\n",
       " 'distressed': 749,\n",
       " 'drifting': 787,\n",
       " 'young': 3041,\n",
       " 'man': 1641,\n",
       " 'not': 1815,\n",
       " 'sure': 2571,\n",
       " 'who': 2969,\n",
       " 'was': 2921,\n",
       " 'more': 1735,\n",
       " 'lost': 1607,\n",
       " 'the': 2642,\n",
       " 'flat': 1036,\n",
       " 'characters': 432,\n",
       " 'or': 1864,\n",
       " 'audience': 196,\n",
       " 'nearly': 1779,\n",
       " 'half': 1207,\n",
       " 'of': 1839,\n",
       " 'whom': 2973,\n",
       " 'walked': 2909,\n",
       " 'out': 1877,\n",
       " 'attempting': 192,\n",
       " 'artiness': 169,\n",
       " 'with': 2989,\n",
       " 'black': 290,\n",
       " 'white': 2967,\n",
       " 'and': 125,\n",
       " 'clever': 479,\n",
       " 'camera': 377,\n",
       " 'angles': 131,\n",
       " 'disappointed': 731,\n",
       " 'became': 249,\n",
       " 'even': 893,\n",
       " 'ridiculous': 2202,\n",
       " 'as': 174,\n",
       " 'acting': 56,\n",
       " 'poor': 2004,\n",
       " 'plot': 1988,\n",
       " 'lines': 1577,\n",
       " 'almost': 104,\n",
       " 'non': 1807,\n",
       " 'existent': 922,\n",
       " 'little': 1583,\n",
       " 'music': 1762,\n",
       " 'anything': 148,\n",
       " 'to': 2698,\n",
       " 'speak': 2454,\n",
       " 'best': 276,\n",
       " 'scene': 2270,\n",
       " 'in': 1359,\n",
       " 'when': 2959,\n",
       " 'gerardo': 1135,\n",
       " 'is': 1424,\n",
       " 'trying': 2763,\n",
       " 'find': 1019,\n",
       " 'song': 2435,\n",
       " 'that': 2641,\n",
       " 'keeps': 1479,\n",
       " 'running': 2237,\n",
       " 'through': 2677,\n",
       " 'his': 1278,\n",
       " 'head': 1238,\n",
       " 'rest': 2184,\n",
       " 'lacks': 1510,\n",
       " 'art': 167,\n",
       " 'charm': 437,\n",
       " 'meaning': 1675,\n",
       " 'if': 1338,\n",
       " 'it': 1430,\n",
       " 'emptiness': 849,\n",
       " 'works': 3010,\n",
       " 'guess': 1195,\n",
       " 'because': 250,\n",
       " 'empty': 850,\n",
       " 'wasted': 2926,\n",
       " 'two': 2776,\n",
       " 'hours': 1309,\n",
       " 'saw': 2261,\n",
       " 'today': 2699,\n",
       " 'thought': 2668,\n",
       " 'good': 1164,\n",
       " 'effort': 823,\n",
       " 'messages': 1696,\n",
       " 'for': 1055,\n",
       " 'kids': 1486,\n",
       " 'bit': 288,\n",
       " 'predictable': 2025,\n",
       " 'loved': 1613,\n",
       " 'casting': 407,\n",
       " 'jimmy': 1451,\n",
       " 'buffet': 356,\n",
       " 'science': 2280,\n",
       " 'teacher': 2612,\n",
       " 'those': 2666,\n",
       " 'baby': 217,\n",
       " 'owls': 1892,\n",
       " 'were': 2954,\n",
       " 'adorable': 72,\n",
       " 'showed': 2367,\n",
       " 'lot': 1608,\n",
       " 'florida': 1043,\n",
       " 'at': 186,\n",
       " 'made': 1628,\n",
       " 'look': 1598,\n",
       " 'appealing': 152,\n",
       " 'songs': 2436,\n",
       " 'muppets': 1757,\n",
       " 'so': 2420,\n",
       " 'hilarious': 1272,\n",
       " 'cool': 581,\n",
       " 'this': 2662,\n",
       " 'right': 2204,\n",
       " 'on': 1854,\n",
       " 'case': 403,\n",
       " 'delivers': 683,\n",
       " 'everything': 899,\n",
       " 'your': 3043,\n",
       " 'face': 948,\n",
       " 'had': 1202,\n",
       " 'some': 2429,\n",
       " 'average': 202,\n",
       " 'from': 1090,\n",
       " 'main': 1630,\n",
       " 'person': 1945,\n",
       " 'low': 1616,\n",
       " 'budget': 354,\n",
       " 'you': 3040,\n",
       " 'clearly': 478,\n",
       " 'can': 381,\n",
       " 'see': 2305,\n",
       " 'review': 2196,\n",
       " 'long': 1596,\n",
       " 'overdue': 1886,\n",
       " 'since': 2381,\n",
       " 'consider': 550,\n",
       " 'tale': 2600,\n",
       " 'sisters': 2390,\n",
       " 'be': 244,\n",
       " 'single': 2385,\n",
       " 'greatest': 1183,\n",
       " 'film': 1009,\n",
       " 'ever': 895,\n",
       " 'll': 1587,\n",
       " 'put': 2082,\n",
       " 'gem': 1125,\n",
       " 'up': 2844,\n",
       " 'against': 85,\n",
       " 'any': 146,\n",
       " 'terms': 2633,\n",
       " 'screenplay': 2288,\n",
       " 'cinematography': 472,\n",
       " 'post': 2015,\n",
       " 'production': 2052,\n",
       " 'editing': 816,\n",
       " 'directing': 726,\n",
       " 'other': 1872,\n",
       " 'aspect': 178,\n",
       " 'making': 1637,\n",
       " 'practically': 2021,\n",
       " 'perfect': 1937,\n",
       " 'all': 100,\n",
       " 'them': 2648,\n",
       " 'true': 2757,\n",
       " 'masterpiece': 1660,\n",
       " 'sea': 2296,\n",
       " 'faux': 986,\n",
       " 'masterpieces': 1661,\n",
       " 'structure': 2523,\n",
       " 'easily': 808,\n",
       " 'most': 1738,\n",
       " 'tightly': 2687,\n",
       " 'constructed': 559,\n",
       " 'history': 1279,\n",
       " 'cinema': 469,\n",
       " 'think': 2660,\n",
       " 'no': 1803,\n",
       " 'where': 2961,\n",
       " 'something': 2431,\n",
       " 'vitally': 2895,\n",
       " 'important': 1350,\n",
       " 'occurs': 1837,\n",
       " 'every': 896,\n",
       " 'minute': 1710,\n",
       " 'words': 3006,\n",
       " 'content': 563,\n",
       " 'level': 1556,\n",
       " 'enough': 868,\n",
       " 'fill': 1008,\n",
       " 'dozen': 772,\n",
       " 'films': 1014,\n",
       " 'how': 1312,\n",
       " 'anyone': 147,\n",
       " 'their': 2647,\n",
       " 'mind': 1705,\n",
       " 'ask': 176,\n",
       " 'than': 2639,\n",
       " 'quite': 2095,\n",
       " 'simply': 2380,\n",
       " 'highest': 1269,\n",
       " 'superlative': 2566,\n",
       " 'form': 1068,\n",
       " 'imaginable': 1341,\n",
       " 'yes': 3038,\n",
       " 'does': 757,\n",
       " 'require': 2179,\n",
       " 'rather': 2108,\n",
       " 'significant': 2375,\n",
       " 'amount': 121,\n",
       " 'puzzle': 2084,\n",
       " 'solving': 2428,\n",
       " 'but': 366,\n",
       " 'pieces': 1963,\n",
       " 'fit': 1030,\n",
       " 'together': 2700,\n",
       " 'create': 609,\n",
       " 'beautiful': 246,\n",
       " 'picture': 1960,\n",
       " 'short': 2360,\n",
       " 'certainly': 420,\n",
       " 'pulls': 2073,\n",
       " 'punches': 2075,\n",
       " 'graphics': 1179,\n",
       " 'far': 973,\n",
       " 'part': 1917,\n",
       " 'game': 1114,\n",
       " 'number': 1823,\n",
       " 'one': 1856,\n",
       " 'th': 2638,\n",
       " 'series': 2327,\n",
       " 'deserves': 696,\n",
       " 'strong': 2521,\n",
       " 'love': 1612,\n",
       " 'an': 123,\n",
       " 'insane': 1383,\n",
       " 'there': 2654,\n",
       " 'are': 160,\n",
       " 'massive': 1657,\n",
       " 'levels': 1557,\n",
       " 'unlockable': 2826,\n",
       " 'just': 1473,\n",
       " 'waste': 2925,\n",
       " 'money': 1727,\n",
       " 'kind': 1492,\n",
       " 'properly': 2060,\n",
       " 'actually': 63,\n",
       " 'time': 2688,\n",
       " 'crap': 603,\n",
       " 'they': 2656,\n",
       " 'say': 2262,\n",
       " 'canada': 382,\n",
       " 'fun': 1100,\n",
       " 'aye': 213,\n",
       " 'rocks': 2217,\n",
       " 'buy': 367,\n",
       " 'play': 1975,\n",
       " 'enjoy': 864,\n",
       " 'pure': 2080,\n",
       " 'brilliance': 343,\n",
       " 'flick': 1041,\n",
       " 'doomed': 767,\n",
       " 'its': 1432,\n",
       " 'conception': 532,\n",
       " 'idea': 1330,\n",
       " 'lame': 1513,\n",
       " 'take': 2596,\n",
       " 'minor': 1709,\n",
       " 'character': 430,\n",
       " 'mediocre': 1679,\n",
       " 'pg': 1949,\n",
       " '13': 2,\n",
       " 'make': 1633,\n",
       " 'complete': 521,\n",
       " 'sequel': 2323,\n",
       " 'while': 2964,\n",
       " 'changing': 428,\n",
       " 'tone': 2706,\n",
       " 'rated': 2107,\n",
       " 'family': 966,\n",
       " 'wasn': 2924,\n",
       " 'least': 1540,\n",
       " 'interested': 1405,\n",
       " 'only': 1858,\n",
       " 'did': 718,\n",
       " 'confirm': 541,\n",
       " 'would': 3019,\n",
       " 'unfunny': 2817,\n",
       " 'generic': 1129,\n",
       " 'also': 108,\n",
       " 'managed': 1642,\n",
       " 'give': 1149,\n",
       " 'away': 209,\n",
       " 'entire': 873,\n",
       " 'exaggerating': 906,\n",
       " 'moment': 1724,\n",
       " 'point': 1995,\n",
       " 'joke': 1457,\n",
       " 'told': 2701,\n",
       " 'trailer': 2731,\n",
       " 'funny': 1104,\n",
       " 'talented': 2602,\n",
       " 'carrell': 397,\n",
       " 'save': 2259,\n",
       " 'co': 489,\n",
       " 'stars': 2482,\n",
       " 'don': 763,\n",
       " 'fare': 975,\n",
       " 'much': 1755,\n",
       " 'better': 277,\n",
       " 'people': 1935,\n",
       " 'like': 1567,\n",
       " 'morgan': 1736,\n",
       " 'freeman': 1083,\n",
       " 'jonah': 1459,\n",
       " 'hill': 1273,\n",
       " 'ed': 814,\n",
       " 'helms': 1252,\n",
       " 'story': 2508,\n",
       " 'itself': 1433,\n",
       " 'lazy': 1535,\n",
       " 'real': 2119,\n",
       " 'effects': 822,\n",
       " 'work': 3007,\n",
       " 'presence': 2031,\n",
       " 'animals': 135,\n",
       " 'integration': 1397,\n",
       " 'into': 1411,\n",
       " 'scenes': 2272,\n",
       " 'worst': 3014,\n",
       " 'obvious': 1832,\n",
       " 'blue': 300,\n",
       " 'green': 1185,\n",
       " 'screen': 2286,\n",
       " 've': 2867,\n",
       " 'seen': 2311,\n",
       " 'whatever': 2957,\n",
       " 'cost': 588,\n",
       " 'didn': 719,\n",
       " 'translate': 2736,\n",
       " 'quality': 2088,\n",
       " 'succeeds': 2547,\n",
       " 'despite': 704,\n",
       " 'perhaps': 1942,\n",
       " 'obviously': 1833,\n",
       " 'meagre': 1672,\n",
       " 'glad': 1153,\n",
       " 'go': 1157,\n",
       " 'choice': 461,\n",
       " 'lesser': 1551,\n",
       " 'have': 1229,\n",
       " 'addition': 68,\n",
       " 'having': 1232,\n",
       " 'lovely': 1614,\n",
       " 'written': 3029,\n",
       " 'french': 1084,\n",
       " 'cancan': 383,\n",
       " 'boasts': 302,\n",
       " 'cutest': 636,\n",
       " 'leading': 1537,\n",
       " 'ladies': 1511,\n",
       " 'grace': 1174,\n",
       " 'hard': 1222,\n",
       " 'fall': 959,\n",
       " 'over': 1882,\n",
       " 'heels': 1247,\n",
       " 'girl': 1145,\n",
       " 'negative': 1784,\n",
       " 'insipid': 1386,\n",
       " 'cause': 411,\n",
       " 'regret': 2145,\n",
       " 'another': 143,\n",
       " 'life': 1563,\n",
       " 'front': 1091,\n",
       " 'whiny': 2966,\n",
       " 'pointless': 1997,\n",
       " 'recommend': 2133,\n",
       " 'waiting': 2906,\n",
       " 'future': 1106,\n",
       " 'efforts': 824,\n",
       " 'let': 1553,\n",
       " 'excellent': 908,\n",
       " 'cast': 405,\n",
       " 'line': 1575,\n",
       " 'performances': 1941,\n",
       " 'totally': 2719,\n",
       " 'believable': 263,\n",
       " 'anne': 140,\n",
       " 'heche': 1246,\n",
       " 'utterly': 2860,\n",
       " 'convincing': 579,\n",
       " 'sam': 2248,\n",
       " 'shepard': 2355,\n",
       " 'portrayal': 2008,\n",
       " 'gung': 1198,\n",
       " 'ho': 1281,\n",
       " 'marine': 1649,\n",
       " 'sobering': 2422,\n",
       " 'sat': 2255,\n",
       " 'riveted': 2210,\n",
       " 'tv': 2771,\n",
       " 'resounding': 2182,\n",
       " '10': 0,\n",
       " 'do': 752,\n",
       " 'tom': 2704,\n",
       " 'hanks': 1217,\n",
       " 'actor': 59,\n",
       " 'enjoyed': 866,\n",
       " 'reading': 2117,\n",
       " 'book': 315,\n",
       " 'my': 1765,\n",
       " 'children': 455,\n",
       " 'annoying': 142,\n",
       " 'voice': 2899,\n",
       " 'gives': 1151,\n",
       " 'me': 1671,\n",
       " 'feeling': 993,\n",
       " 'fingernails': 1023,\n",
       " 'chalkboard': 423,\n",
       " 'unnecessary': 2830,\n",
       " 'train': 2732,\n",
       " 'roller': 2221,\n",
       " 'coaster': 493,\n",
       " 'absolutely': 40,\n",
       " 'warmth': 2916,\n",
       " 'these': 2655,\n",
       " 'grates': 1181,\n",
       " 'nerves': 1788,\n",
       " 'improved': 1355,\n",
       " 'by': 368,\n",
       " 'improvisation': 1357,\n",
       " 'actors': 60,\n",
       " 'now': 1822,\n",
       " 'twice': 2772,\n",
       " 'worry': 3012,\n",
       " 'whether': 2962,\n",
       " 're': 2114,\n",
       " 'delivering': 682,\n",
       " 'well': 2951,\n",
       " 'honestly': 1294,\n",
       " 'often': 1845,\n",
       " 'dialogue': 715,\n",
       " 'doesn': 758,\n",
       " 'really': 2125,\n",
       " 'follow': 1049,\n",
       " 'surroundings': 2580,\n",
       " 'crackles': 601,\n",
       " 'unpredictable': 2835,\n",
       " 'youthful': 3045,\n",
       " 'energy': 860,\n",
       " 'found': 1074,\n",
       " 'concentrate': 531,\n",
       " 'meanders': 1674,\n",
       " 'badly': 223,\n",
       " 'generally': 1127,\n",
       " 'great': 1182,\n",
       " 'things': 2659,\n",
       " 'wouldn': 3020,\n",
       " 'worth': 3015,\n",
       " 'though': 2667,\n",
       " 'suspense': 2582,\n",
       " 'builders': 358,\n",
       " 'cross': 625,\n",
       " 'especially': 884,\n",
       " 'liked': 1568,\n",
       " 'cliche': 480,\n",
       " 'choices': 462,\n",
       " 'parents': 1914,\n",
       " 'movies': 1751,\n",
       " 'could': 592,\n",
       " 'predict': 2024,\n",
       " 'dialog': 713,\n",
       " 'verbatim': 2871,\n",
       " 'writing': 3028,\n",
       " 'selections': 2312,\n",
       " 'want': 2911,\n",
       " 'gross': 1192,\n",
       " 'chills': 457,\n",
       " 'alexander': 98,\n",
       " 'nevsky': 1795,\n",
       " 'he': 1237,\n",
       " 'amazing': 115,\n",
       " 'artist': 170,\n",
       " 'whoever': 2970,\n",
       " 'lived': 1584,\n",
       " 'pretentious': 2035,\n",
       " 'piece': 1962,\n",
       " 'planned': 1973,\n",
       " 'dodge': 756,\n",
       " 'stratus': 2514,\n",
       " 'big': 283,\n",
       " 'shots': 2363,\n",
       " 'gonna': 1163,\n",
       " 'help': 1253,\n",
       " 'makers': 1635,\n",
       " 'aren': 161,\n",
       " 'restrained': 2185,\n",
       " 'business': 365,\n",
       " 'quã': 2096,\n",
       " 'bec': 248,\n",
       " 'first': 1026,\n",
       " 'given': 1150,\n",
       " 'years': 3036,\n",
       " 'needed': 1782,\n",
       " 'word': 3005,\n",
       " 'mouth': 1745,\n",
       " 'promote': 2056,\n",
       " 'overall': 1884,\n",
       " 'interesting': 1406,\n",
       " 'provoking': 2065,\n",
       " 'plus': 1990,\n",
       " 'paced': 1898,\n",
       " 'suited': 2557,\n",
       " 'relatively': 2155,\n",
       " 'run': 2236,\n",
       " 'gave': 1122,\n",
       " 'wind': 2986,\n",
       " 'lion': 1579,\n",
       " 'superbly': 2564,\n",
       " 'acted': 55,\n",
       " 'classic': 475,\n",
       " 'turned': 2769,\n",
       " 'pretty': 2037,\n",
       " 'decent': 665,\n",
       " 'list': 1580,\n",
       " 'horror': 1304,\n",
       " 'definitely': 675,\n",
       " 'checking': 444,\n",
       " 'problem': 2042,\n",
       " 'script': 2291,\n",
       " 'horrendous': 1299,\n",
       " 'nothing': 1820,\n",
       " 'frustration': 1094,\n",
       " 'retarded': 2189,\n",
       " 'girls': 1147,\n",
       " 'manna': 1644,\n",
       " 'heaven': 1245,\n",
       " 'terrific': 2636,\n",
       " 'both': 326,\n",
       " 'same': 2249,\n",
       " 'occasionally': 1834,\n",
       " 'touching': 2722,\n",
       " 'evaluate': 892,\n",
       " 'lives': 1585,\n",
       " 'going': 1161,\n",
       " 'veteran': 2877,\n",
       " 'nostalgia': 1814,\n",
       " 'trip': 2751,\n",
       " 'ursula': 2850,\n",
       " 'burton': 364,\n",
       " 'nun': 1825,\n",
       " 'nuns': 1826,\n",
       " 'church': 468,\n",
       " 'looking': 1600,\n",
       " 'including': 1363,\n",
       " 'shirley': 2357,\n",
       " 'jones': 1460,\n",
       " 'rendition': 2169,\n",
       " 'way': 2937,\n",
       " 'tonight': 2708,\n",
       " 'uplifting': 2846,\n",
       " 'ending': 856,\n",
       " 'try': 2762,\n",
       " 'will': 2981,\n",
       " 'frankly': 1080,\n",
       " 'after': 82,\n",
       " 'cotton': 591,\n",
       " 'club': 488,\n",
       " 'unfaithful': 2812,\n",
       " 'embarrassing': 838,\n",
       " 'watch': 2929,\n",
       " 'lane': 1516,\n",
       " 'gere': 1136,\n",
       " 'bad': 222,\n",
       " 'dialogs': 714,\n",
       " 'extremely': 944,\n",
       " 'shallow': 2340,\n",
       " 'insincere': 1385,\n",
       " 'too': 2711,\n",
       " 'chick': 452,\n",
       " 'politically': 2001,\n",
       " 'correct': 587,\n",
       " 'disappointing': 732,\n",
       " 'thing': 2658,\n",
       " 'watching': 2932,\n",
       " 'scenery': 2271,\n",
       " 'house': 1310,\n",
       " 'never': 1793,\n",
       " 'her': 1258,\n",
       " 'lousy': 1610,\n",
       " 'hour': 1308,\n",
       " 'wish': 2988,\n",
       " 'bring': 346,\n",
       " 'back': 219,\n",
       " 'fresh': 1085,\n",
       " 'bold': 307,\n",
       " 'helps': 1255,\n",
       " 'along': 105,\n",
       " 'maybe': 1668,\n",
       " 'idiot': 1335,\n",
       " 'savant': 2258,\n",
       " 'sister': 2389,\n",
       " 'been': 254,\n",
       " 'played': 1976,\n",
       " 'joy': 1462,\n",
       " 'boring': 323,\n",
       " 'sometimes': 2432,\n",
       " 'myself': 1766,\n",
       " 'occupied': 1835,\n",
       " 'peaking': 1930,\n",
       " 'paper': 1912,\n",
       " 'instead': 1391,\n",
       " 'happened': 1219,\n",
       " 'during': 798,\n",
       " 'columbo': 502,\n",
       " 'before': 255,\n",
       " 'seems': 2310,\n",
       " 'oh': 1846,\n",
       " 'mature': 1666,\n",
       " 'neighbour': 1786,\n",
       " 'misplace': 1716,\n",
       " 'weaker': 2944,\n",
       " 'episode': 876,\n",
       " 'then': 2652,\n",
       " 'debated': 660,\n",
       " 'sack': 2242,\n",
       " 'trumpeter': 2760,\n",
       " 'falsely': 962,\n",
       " 'accused': 50,\n",
       " 'murder': 1758,\n",
       " 'stupid': 2532,\n",
       " 'applause': 156,\n",
       " 'should': 2364,\n",
       " 'prelude': 2028,\n",
       " 'however': 1316,\n",
       " 'director': 728,\n",
       " 'edge': 815,\n",
       " 'seat': 2301,\n",
       " 'somewhat': 2433,\n",
       " 'afraid': 80,\n",
       " 'car': 391,\n",
       " 'end': 853,\n",
       " 'night': 1800,\n",
       " 'nice': 1798,\n",
       " 'advise': 75,\n",
       " 'brilliant': 344,\n",
       " 'playing': 1979,\n",
       " 'villain': 2886,\n",
       " 'rent': 2171,\n",
       " 'michael': 1699,\n",
       " 'ironside': 1422,\n",
       " 'rocked': 2216,\n",
       " 'world': 3011,\n",
       " 'must': 1764,\n",
       " 'social': 2423,\n",
       " 'physical': 1957,\n",
       " 'outlets': 1879,\n",
       " 'fact': 952,\n",
       " 'tremendously': 2747,\n",
       " 'chemistry': 451,\n",
       " 'between': 279,\n",
       " 'ben': 271,\n",
       " 'affleck': 79,\n",
       " 'sandra': 2252,\n",
       " 'bullock': 361,\n",
       " 'couldn': 593,\n",
       " 'understand': 2801,\n",
       " 'why': 2974,\n",
       " 'leaving': 1543,\n",
       " 'wife': 2977,\n",
       " 'supposedly': 2570,\n",
       " 'knocked': 1498,\n",
       " 'several': 2336,\n",
       " 'moments': 1725,\n",
       " 'need': 1781,\n",
       " 'excruciatingly': 917,\n",
       " 'remake': 2162,\n",
       " 'friends': 1087,\n",
       " 'wedding': 2948,\n",
       " 'disappointment': 733,\n",
       " 'cannot': 386,\n",
       " 'believe': 264,\n",
       " 'agreed': 91,\n",
       " 'stand': 2476,\n",
       " 'fear': 989,\n",
       " 'losing': 1606,\n",
       " 'nobody': 1805,\n",
       " 'network': 1792,\n",
       " 'aired': 94,\n",
       " 'dribble': 785,\n",
       " 'watched': 2931,\n",
       " 'putting': 2083,\n",
       " 'imdb': 1345,\n",
       " 'ratings': 2110,\n",
       " 'awful': 211,\n",
       " 'get': 1137,\n",
       " 'numbers': 1824,\n",
       " 'cases': 404,\n",
       " 'such': 2549,\n",
       " 'mirrormask': 1712,\n",
       " 'last': 1521,\n",
       " 'unsatisfactory': 2841,\n",
       " 'experience': 929,\n",
       " 'unfortunately': 2816,\n",
       " 'inexperience': 1379,\n",
       " 'direction': 727,\n",
       " 'meant': 1677,\n",
       " 'passed': 1922,\n",
       " 'dramatic': 779,\n",
       " 'tension': 2630,\n",
       " 'conflict': 542,\n",
       " 'central': 417,\n",
       " 'themes': 2650,\n",
       " 'handled': 1212,\n",
       " 'ineptly': 1378,\n",
       " 'stereotypically': 2495,\n",
       " 'depth': 690,\n",
       " 'imagination': 1342,\n",
       " 'pictures': 1961,\n",
       " 'flawed': 1038,\n",
       " 'core': 584,\n",
       " 'following': 1050,\n",
       " 'bunch': 363,\n",
       " 'high': 1267,\n",
       " 'schoolers': 2276,\n",
       " 'whine': 2965,\n",
       " 'cry': 630,\n",
       " 'relate': 2149,\n",
       " 'hell': 1250,\n",
       " 'barely': 234,\n",
       " 'cult': 631,\n",
       " 'viewing': 2884,\n",
       " 'sharing': 2344,\n",
       " 'others': 1873,\n",
       " 'disaster': 734,\n",
       " 'confuses': 543,\n",
       " 'incredibly': 1368,\n",
       " 'fish': 1027,\n",
       " 'underwater': 2807,\n",
       " 'repeated': 2173,\n",
       " 'thousand': 2670,\n",
       " 'times': 2692,\n",
       " 'truly': 2758,\n",
       " 'terrible': 2634,\n",
       " 'worse': 3013,\n",
       " 'possible': 2013,\n",
       " 'redeemed': 2138,\n",
       " 'mst3k': 1754,\n",
       " 'fodder': 1048,\n",
       " 'paid': 1901,\n",
       " 'treat': 2743,\n",
       " 'anthony': 144,\n",
       " 'quinn': 2094,\n",
       " 'crazy': 608,\n",
       " 'horse': 1305,\n",
       " 'whatsoever': 2958,\n",
       " 'again': 84,\n",
       " 'horrible': 1301,\n",
       " 'gosh': 1168,\n",
       " 'walk': 2908,\n",
       " 'theatre': 2644,\n",
       " 'few': 1003,\n",
       " 'minutes': 1711,\n",
       " 'relief': 2159,\n",
       " 'hate': 1226,\n",
       " 'yeah': 3034,\n",
       " 'sucked': 2551,\n",
       " 'storyline': 2509,\n",
       " 'pillow': 1965,\n",
       " 'girlfriend': 1146,\n",
       " 'boyfriend': 331,\n",
       " 'keep': 1478,\n",
       " 'gone': 1162,\n",
       " 'disliked': 742,\n",
       " 'tickets': 2686,\n",
       " 'five': 1031,\n",
       " 'dollars': 761,\n",
       " 'mad': 1627,\n",
       " '50': 24,\n",
       " 'identifies': 1333,\n",
       " 'cardboard': 393,\n",
       " 'cutouts': 638,\n",
       " 'stereotypes': 2494,\n",
       " 'predictably': 2026,\n",
       " 'reverse': 2195,\n",
       " 'ugly': 2782,\n",
       " 'cartoon': 401,\n",
       " 'crafted': 602,\n",
       " 'paul': 1928,\n",
       " 'haggis': 1204,\n",
       " 'handle': 1211,\n",
       " 'strokes': 2520,\n",
       " 'storytelling': 2510,\n",
       " 'painted': 1905,\n",
       " 'crayons': 607,\n",
       " 'crash': 604,\n",
       " 'depressing': 689,\n",
       " 'provokes': 2064,\n",
       " 'emotion': 844,\n",
       " 'teaches': 2613,\n",
       " 'already': 107,\n",
       " 'know': 1499,\n",
       " 'racism': 2099,\n",
       " 'prejudice': 2027,\n",
       " 'still': 2499,\n",
       " 'empowerment': 848,\n",
       " 'women': 2995,\n",
       " 'brain': 333,\n",
       " 'attempt': 190,\n",
       " 'shut': 2369,\n",
       " 'down': 770,\n",
       " 'primal': 2039,\n",
       " 'impulse': 1358,\n",
       " 'self': 2313,\n",
       " 'preservation': 2033,\n",
       " 'left': 1545,\n",
       " 'shattered': 2347,\n",
       " 'took': 2712,\n",
       " 'fully': 1098,\n",
       " 'recover': 2136,\n",
       " 'joins': 1456,\n",
       " 'revenge': 2193,\n",
       " 'boogeyman': 314,\n",
       " 'zombiez': 3050,\n",
       " 'hellish': 1251,\n",
       " 'trinity': 2750,\n",
       " 'mean': 1673,\n",
       " 'distinction': 746,\n",
       " 'has': 1224,\n",
       " 'redeeming': 2139,\n",
       " 'features': 991,\n",
       " 'appalling': 151,\n",
       " 'artless': 172,\n",
       " 'endlessly': 857,\n",
       " 'presents': 2032,\n",
       " 'us': 2851,\n",
       " 'ugliest': 2781,\n",
       " 'setting': 2333,\n",
       " 'beyond': 281,\n",
       " 'isâ': 1429,\n",
       " 'lead': 1536,\n",
       " 'charisma': 433,\n",
       " 'free': 1081,\n",
       " 'without': 2991,\n",
       " 'merit': 1693,\n",
       " 'akin': 96,\n",
       " 'torture': 2716,\n",
       " 'reasonable': 2127,\n",
       " 'explanation': 934,\n",
       " 'atrocity': 189,\n",
       " 'pleasant': 1981,\n",
       " 'voyage': 2904,\n",
       " 'discovery': 738,\n",
       " 'highly': 1271,\n",
       " 'unrecommended': 2838,\n",
       " 'premise': 2029,\n",
       " 'sound': 2443,\n",
       " 'performance': 1940,\n",
       " 'ms': 1753,\n",
       " 'garbo': 1118,\n",
       " 'off': 1840,\n",
       " 'bat': 241,\n",
       " 'talents': 2603,\n",
       " 'carry': 399,\n",
       " 'silent': 2376,\n",
       " 'era': 879,\n",
       " 'wanted': 2912,\n",
       " 'netflix': 1791,\n",
       " 'seem': 2308,\n",
       " 'stocking': 2502,\n",
       " 'renowned': 2170,\n",
       " 'screenwriter': 2289,\n",
       " 'frances': 1078,\n",
       " 'marion': 1650,\n",
       " 'hasn': 1225,\n",
       " 'missed': 1718,\n",
       " 'step': 2492,\n",
       " 'suffered': 2553,\n",
       " 'many': 1646,\n",
       " 'close': 485,\n",
       " 'ups': 2848,\n",
       " 'seemed': 2309,\n",
       " 'drag': 776,\n",
       " 'heroes': 1262,\n",
       " 'freedom': 1082,\n",
       " 'below': 270,\n",
       " 'ones': 1857,\n",
       " 'received': 2130,\n",
       " 'age': 86,\n",
       " 'john': 1455,\n",
       " 'wayne': 2939,\n",
       " 'incredible': 1367,\n",
       " 'job': 1452,\n",
       " 'being': 261,\n",
       " 'industry': 1377,\n",
       " 'shined': 2356,\n",
       " 'senior': 2316,\n",
       " 'him': 1275,\n",
       " 'older': 1850,\n",
       " 'indulgent': 1376,\n",
       " 'junk': 1471,\n",
       " 'probably': 2041,\n",
       " 'hadn': 1203,\n",
       " 'spent': 2459,\n",
       " 'showcasing': 2366,\n",
       " 'own': 1893,\n",
       " 'which': 2963,\n",
       " 'isn': 1426,\n",
       " 'noteworthy': 1819,\n",
       " 'got': 1169,\n",
       " 'punched': 2074,\n",
       " 'gallon': 1113,\n",
       " 'blood': 298,\n",
       " 'spew': 2460,\n",
       " 'forth': 1072,\n",
       " 'soon': 2437,\n",
       " 'jamie': 1438,\n",
       " 'foxx': 1077,\n",
       " 'ray': 2113,\n",
       " 'charles': 435,\n",
       " 'genius': 1130,\n",
       " 'owns': 1895,\n",
       " 'spacek': 2451,\n",
       " 'owned': 1894,\n",
       " 'coal': 491,\n",
       " 'miner': 1707,\n",
       " 'daughter': 649,\n",
       " 'quaid': 2086,\n",
       " 'balls': 231,\n",
       " 'fire': 1025,\n",
       " 'remember': 2164,\n",
       " 'himself': 1276,\n",
       " 'legendary': 1547,\n",
       " 'provided': 2063,\n",
       " 'biographical': 286,\n",
       " 'material': 1662,\n",
       " 'goes': 1160,\n",
       " 'musician': 1763,\n",
       " 'hitchcock': 1280,\n",
       " 'ironically': 1420,\n",
       " 'mostly': 1739,\n",
       " 'total': 2718,\n",
       " 'secondly': 2304,\n",
       " 'perfected': 1938,\n",
       " 'thriller': 2675,\n",
       " 'chase': 439,\n",
       " 'pandering': 1908,\n",
       " 'sabotages': 2241,\n",
       " 'hence': 1256,\n",
       " 'whole': 2971,\n",
       " 'certain': 419,\n",
       " 'rumbles': 2235,\n",
       " 'machine': 1626,\n",
       " 'desperately': 701,\n",
       " 'depending': 685,\n",
       " 'new': 1796,\n",
       " 'usual': 2858,\n",
       " 'logic': 1593,\n",
       " 'flaws': 1039,\n",
       " 'mishima': 1715,\n",
       " 'uninteresting': 2819,\n",
       " 'chilly': 458,\n",
       " 'unremarkable': 2839,\n",
       " 'author': 201,\n",
       " 'living': 1586,\n",
       " 'working': 3009,\n",
       " 'abstruse': 41,\n",
       " 'culture': 632,\n",
       " 'reenactments': 2140,\n",
       " 'hold': 1284,\n",
       " 'attention': 194,\n",
       " 'emotionally': 845,\n",
       " 'adrift': 73,\n",
       " 'stagy': 2475,\n",
       " 'sits': 2395,\n",
       " 'soldiers': 2424,\n",
       " 'singing': 2384,\n",
       " 'masculinity': 1656,\n",
       " 'pledge': 1985,\n",
       " 'themselves': 2651,\n",
       " 'hairsplitting': 1206,\n",
       " 'purity': 2081,\n",
       " 'admiration': 70,\n",
       " 'swords': 2589,\n",
       " 'etc': 890,\n",
       " 'bore': 321,\n",
       " 'kill': 1488,\n",
       " 'momentum': 1726,\n",
       " 'quicker': 2092,\n",
       " 'else': 835,\n",
       " 'schrader': 2277,\n",
       " 'resume': 2188,\n",
       " 'full': 1097,\n",
       " 'amateurish': 112,\n",
       " '80s': 30,\n",
       " 'fascinated': 976,\n",
       " ...}"
      ]
     },
     "execution_count": 12,
     "metadata": {},
     "output_type": "execute_result"
    }
   ],
   "source": [
    "Tfidf_vectorizer.vocabulary_"
   ]
  },
  {
   "cell_type": "markdown",
   "metadata": {},
   "source": [
    "## Splitting dataset"
   ]
  },
  {
   "cell_type": "code",
   "execution_count": 13,
   "metadata": {},
   "outputs": [],
   "source": [
    "from sklearn.model_selection import train_test_split"
   ]
  },
  {
   "cell_type": "code",
   "execution_count": 14,
   "metadata": {},
   "outputs": [],
   "source": [
    "x = train_documents\n",
    "y = train_labels\n",
    "X_train,X_test, Y_train,Y_test = train_test_split(x,y,test_size = 0.30,random_state = 7)\n"
   ]
  },
  {
   "cell_type": "markdown",
   "metadata": {},
   "source": [
    "# Use different standard classifiers for classification of the texts."
   ]
  },
  {
   "cell_type": "markdown",
   "metadata": {},
   "source": [
    "## Naive Bayes\n",
    "\n",
    "#### Naive Bayes classifier is a straightforward and powerful algorithm for the classification task.\n",
    "\n",
    "## Types of Naive Bayes Algorithm"
   ]
  },
  {
   "cell_type": "markdown",
   "metadata": {},
   "source": [
    "### (1) Multinomial Naive Bayes"
   ]
  },
  {
   "cell_type": "code",
   "execution_count": 15,
   "metadata": {},
   "outputs": [],
   "source": [
    "from sklearn.naive_bayes import MultinomialNB"
   ]
  },
  {
   "cell_type": "markdown",
   "metadata": {},
   "source": [
    "#### Fit the data"
   ]
  },
  {
   "cell_type": "code",
   "execution_count": 16,
   "metadata": {},
   "outputs": [],
   "source": [
    "multi = MultinomialNB().fit(X_train,Y_train)\n"
   ]
  },
  {
   "cell_type": "markdown",
   "metadata": {},
   "source": [
    "#### predict the data"
   ]
  },
  {
   "cell_type": "code",
   "execution_count": 17,
   "metadata": {},
   "outputs": [],
   "source": [
    "multi_pred = multi.predict(X_test)"
   ]
  },
  {
   "cell_type": "code",
   "execution_count": 18,
   "metadata": {},
   "outputs": [
    {
     "name": "stdout",
     "output_type": "stream",
     "text": [
      "[1 0 0 0 1 0 1 0 0 1 1 1 0 1 0 0 1 0 1 0 0 1 0 0 0 0 0 1 0 0 0 1 0 0 0 1 0\n",
      " 1 1 0 1 0 0 0 0 1 0 1 1 1 0 0 0 1 0 1 0 0 1 1 0 1 0 0 0 0 0 0 0 1 0 0 0 0\n",
      " 0 1 1 0 1 0 1 0 1 0 1 1 1 1 1 1 0 0 1 0 0 1 1 1 1 0 1 0 1 1 1 1 0 1 0 0 1\n",
      " 0 0 0 0 1 0 0 1 1 1 1 0 0 1 0 1 1 0 0 1 1 0 1 1 1 0 0 0 1 1 0 0 1 0 1 0 1\n",
      " 1 1 0 1 1 0 0 1 1 0 0 0 1 1 0 1 0 0 1 1 0 0 1 0 0 1 0 0 0 0 1 0 0 0 1 1 1\n",
      " 0 1 0 1 0 0 0 1 1 1 0 1 1 0 1 1 0 0 0 1 0 0 0 0 0 0 1 1 0 1 0 0 0 1 1 1 0\n",
      " 0 0 1 1 1 0 0 1 0 0 0 0 0 0 0 0 1 1 1 1 1 0 0 1 1 0 1 0 0 1 0 0 1 0 0 1 0\n",
      " 1 0 1 1 1 1 1 0 0 0 1 1 1 1 0 0 0 1 1 1 1 0 0 0 0 0 1 0 0 0 1 0 0 0 0 0 1\n",
      " 0 0 1 0]\n"
     ]
    }
   ],
   "source": [
    "print(multi_pred)"
   ]
  },
  {
   "cell_type": "markdown",
   "metadata": {},
   "source": [
    "#### Accuracy"
   ]
  },
  {
   "cell_type": "code",
   "execution_count": 19,
   "metadata": {},
   "outputs": [
    {
     "name": "stdout",
     "output_type": "stream",
     "text": [
      "Multinomial accuracy score 0.7766666666666666\n"
     ]
    }
   ],
   "source": [
    "from sklearn import metrics\n",
    "\n",
    "multi_acc = metrics.accuracy_score(Y_test,multi_pred)\n",
    "print(\"Multinomial accuracy score\",multi_acc)"
   ]
  },
  {
   "cell_type": "markdown",
   "metadata": {},
   "source": [
    "#### F1 Score"
   ]
  },
  {
   "cell_type": "code",
   "execution_count": 20,
   "metadata": {},
   "outputs": [
    {
     "data": {
      "text/plain": [
       "0.7759565962731995"
      ]
     },
     "execution_count": 20,
     "metadata": {},
     "output_type": "execute_result"
    }
   ],
   "source": [
    "import numpy as np\n",
    "multi_f1 = metrics.f1_score(Y_test, multi_pred, average='weighted', labels=np.unique(multi_pred))\n",
    "multi_f1"
   ]
  },
  {
   "cell_type": "markdown",
   "metadata": {},
   "source": [
    "#### Confusion Matrix"
   ]
  },
  {
   "cell_type": "code",
   "execution_count": 21,
   "metadata": {},
   "outputs": [
    {
     "name": "stdout",
     "output_type": "stream",
     "text": [
      "[[126  26]\n",
      " [ 41 107]]\n"
     ]
    }
   ],
   "source": [
    "from sklearn.metrics import confusion_matrix\n",
    "matrix = confusion_matrix(Y_test,multi_pred)\n",
    "print(matrix)\n"
   ]
  },
  {
   "cell_type": "markdown",
   "metadata": {},
   "source": [
    "#### Classification Report"
   ]
  },
  {
   "cell_type": "code",
   "execution_count": 22,
   "metadata": {},
   "outputs": [
    {
     "name": "stdout",
     "output_type": "stream",
     "text": [
      "             precision    recall  f1-score   support\n",
      "\n",
      "          0       0.75      0.83      0.79       152\n",
      "          1       0.80      0.72      0.76       148\n",
      "\n",
      "avg / total       0.78      0.78      0.78       300\n",
      "\n"
     ]
    }
   ],
   "source": [
    "from sklearn.metrics import classification_report \n",
    "\n",
    "print(classification_report(Y_test,multi_pred))"
   ]
  },
  {
   "cell_type": "markdown",
   "metadata": {},
   "source": [
    "### (2)Bernoulli Naive Bayes"
   ]
  },
  {
   "cell_type": "code",
   "execution_count": 23,
   "metadata": {},
   "outputs": [],
   "source": [
    "from sklearn.naive_bayes import BernoulliNB"
   ]
  },
  {
   "cell_type": "markdown",
   "metadata": {},
   "source": [
    "##### Fit the data"
   ]
  },
  {
   "cell_type": "code",
   "execution_count": 24,
   "metadata": {},
   "outputs": [],
   "source": [
    "bern = BernoulliNB().fit(X_train,Y_train)"
   ]
  },
  {
   "cell_type": "markdown",
   "metadata": {},
   "source": [
    "#### Predict"
   ]
  },
  {
   "cell_type": "code",
   "execution_count": 25,
   "metadata": {},
   "outputs": [],
   "source": [
    "bern_pred = bern.predict(X_test)\n"
   ]
  },
  {
   "cell_type": "markdown",
   "metadata": {},
   "source": [
    "#### Accuracy"
   ]
  },
  {
   "cell_type": "code",
   "execution_count": 26,
   "metadata": {},
   "outputs": [
    {
     "data": {
      "text/plain": [
       "0.7666666666666667"
      ]
     },
     "execution_count": 26,
     "metadata": {},
     "output_type": "execute_result"
    }
   ],
   "source": [
    "\n",
    "bern_acc = metrics.accuracy_score(Y_test,bern_pred)\n",
    "bern_acc"
   ]
  },
  {
   "cell_type": "markdown",
   "metadata": {},
   "source": [
    "#### Confusion matrix"
   ]
  },
  {
   "cell_type": "code",
   "execution_count": 27,
   "metadata": {},
   "outputs": [
    {
     "name": "stdout",
     "output_type": "stream",
     "text": [
      "[[137  15]\n",
      " [ 55  93]]\n"
     ]
    }
   ],
   "source": [
    "from sklearn.metrics import confusion_matrix\n",
    "matrix = confusion_matrix(Y_test,bern_pred)\n",
    "print(matrix)\n"
   ]
  },
  {
   "cell_type": "markdown",
   "metadata": {},
   "source": [
    "#### F1 score"
   ]
  },
  {
   "cell_type": "code",
   "execution_count": 28,
   "metadata": {},
   "outputs": [
    {
     "data": {
      "text/plain": [
       "0.7620033914728682"
      ]
     },
     "execution_count": 28,
     "metadata": {},
     "output_type": "execute_result"
    }
   ],
   "source": [
    "bern_f1 = metrics.f1_score(Y_test, bern_pred, average='weighted', labels=np.unique(bern_pred))\n",
    "bern_f1"
   ]
  },
  {
   "cell_type": "markdown",
   "metadata": {},
   "source": [
    "#### Classification report"
   ]
  },
  {
   "cell_type": "code",
   "execution_count": 29,
   "metadata": {},
   "outputs": [
    {
     "name": "stdout",
     "output_type": "stream",
     "text": [
      "             precision    recall  f1-score   support\n",
      "\n",
      "          0       0.71      0.90      0.80       152\n",
      "          1       0.86      0.63      0.73       148\n",
      "\n",
      "avg / total       0.79      0.77      0.76       300\n",
      "\n"
     ]
    }
   ],
   "source": [
    "from sklearn.metrics import classification_report \n",
    "\n",
    "print(classification_report(Y_test,bern_pred))"
   ]
  },
  {
   "cell_type": "markdown",
   "metadata": {},
   "source": [
    "### (3)Gaussain Naive Bayes"
   ]
  },
  {
   "cell_type": "code",
   "execution_count": 30,
   "metadata": {},
   "outputs": [],
   "source": [
    "from sklearn.naive_bayes import GaussianNB"
   ]
  },
  {
   "cell_type": "markdown",
   "metadata": {},
   "source": [
    "##### Fit the data"
   ]
  },
  {
   "cell_type": "code",
   "execution_count": 31,
   "metadata": {},
   "outputs": [
    {
     "data": {
      "text/plain": [
       "GaussianNB(priors=None)"
      ]
     },
     "execution_count": 31,
     "metadata": {},
     "output_type": "execute_result"
    }
   ],
   "source": [
    "gauss = GaussianNB()\n",
    "gauss.fit(X_train.todense(),Y_train)"
   ]
  },
  {
   "cell_type": "markdown",
   "metadata": {},
   "source": [
    "#### Predict"
   ]
  },
  {
   "cell_type": "code",
   "execution_count": 32,
   "metadata": {},
   "outputs": [],
   "source": [
    "gauss_pred =  gauss.predict(X_test.todense())"
   ]
  },
  {
   "cell_type": "markdown",
   "metadata": {},
   "source": [
    "#### Accuracy"
   ]
  },
  {
   "cell_type": "code",
   "execution_count": 33,
   "metadata": {},
   "outputs": [
    {
     "data": {
      "text/plain": [
       "0.66"
      ]
     },
     "execution_count": 33,
     "metadata": {},
     "output_type": "execute_result"
    }
   ],
   "source": [
    "gauss_acc = metrics.accuracy_score(gauss_pred,Y_test)\n",
    "gauss_acc"
   ]
  },
  {
   "cell_type": "markdown",
   "metadata": {},
   "source": [
    "#### Confusion matrix"
   ]
  },
  {
   "cell_type": "code",
   "execution_count": 34,
   "metadata": {},
   "outputs": [
    {
     "name": "stdout",
     "output_type": "stream",
     "text": [
      "[[112  40]\n",
      " [ 62  86]]\n"
     ]
    }
   ],
   "source": [
    "matrix = confusion_matrix(Y_test,gauss_pred)\n",
    "print(matrix)\n"
   ]
  },
  {
   "cell_type": "markdown",
   "metadata": {},
   "source": [
    "#### F1 score"
   ]
  },
  {
   "cell_type": "code",
   "execution_count": 35,
   "metadata": {},
   "outputs": [
    {
     "data": {
      "text/plain": [
       "0.6578227576015405"
      ]
     },
     "execution_count": 35,
     "metadata": {},
     "output_type": "execute_result"
    }
   ],
   "source": [
    "gauss_f1 = metrics.f1_score(Y_test, gauss_pred, average='weighted', labels=np.unique(gauss_pred))\n",
    "gauss_f1"
   ]
  },
  {
   "cell_type": "markdown",
   "metadata": {},
   "source": [
    "#### Classification report"
   ]
  },
  {
   "cell_type": "code",
   "execution_count": 36,
   "metadata": {},
   "outputs": [
    {
     "name": "stdout",
     "output_type": "stream",
     "text": [
      "             precision    recall  f1-score   support\n",
      "\n",
      "          0       0.74      0.64      0.69       174\n",
      "          1       0.58      0.68      0.63       126\n",
      "\n",
      "avg / total       0.67      0.66      0.66       300\n",
      "\n"
     ]
    }
   ],
   "source": [
    "print(classification_report(gauss_pred,Y_test))"
   ]
  },
  {
   "cell_type": "markdown",
   "metadata": {},
   "source": [
    "### KNeighborsClassifier"
   ]
  },
  {
   "cell_type": "code",
   "execution_count": 37,
   "metadata": {},
   "outputs": [],
   "source": [
    "from sklearn.neighbors import KNeighborsClassifier\n"
   ]
  },
  {
   "cell_type": "markdown",
   "metadata": {},
   "source": [
    "##### Fit the data"
   ]
  },
  {
   "cell_type": "code",
   "execution_count": 38,
   "metadata": {},
   "outputs": [
    {
     "data": {
      "text/plain": [
       "KNeighborsClassifier(algorithm='auto', leaf_size=30, metric='minkowski',\n",
       "           metric_params=None, n_jobs=1, n_neighbors=5, p=2,\n",
       "           weights='uniform')"
      ]
     },
     "execution_count": 38,
     "metadata": {},
     "output_type": "execute_result"
    }
   ],
   "source": [
    "KNN = KNeighborsClassifier()\n",
    "KNN.fit(X_train,Y_train)"
   ]
  },
  {
   "cell_type": "markdown",
   "metadata": {},
   "source": [
    "#### Predict"
   ]
  },
  {
   "cell_type": "code",
   "execution_count": 39,
   "metadata": {},
   "outputs": [],
   "source": [
    "KNN_pred = KNN.predict(X_test)"
   ]
  },
  {
   "cell_type": "markdown",
   "metadata": {},
   "source": [
    "#### Accuracy"
   ]
  },
  {
   "cell_type": "code",
   "execution_count": 40,
   "metadata": {},
   "outputs": [
    {
     "data": {
      "text/plain": [
       "0.7166666666666667"
      ]
     },
     "execution_count": 40,
     "metadata": {},
     "output_type": "execute_result"
    }
   ],
   "source": [
    "KNN_acc = metrics.accuracy_score(Y_test,KNN_pred)\n",
    "KNN_acc"
   ]
  },
  {
   "cell_type": "markdown",
   "metadata": {},
   "source": [
    "#### Confusion matrix"
   ]
  },
  {
   "cell_type": "code",
   "execution_count": 41,
   "metadata": {},
   "outputs": [
    {
     "data": {
      "text/plain": [
       "array([[116,  36],\n",
       "       [ 49,  99]], dtype=int64)"
      ]
     },
     "execution_count": 41,
     "metadata": {},
     "output_type": "execute_result"
    }
   ],
   "source": [
    "KNN_mat = confusion_matrix(Y_test, KNN_pred)\n",
    "KNN_mat"
   ]
  },
  {
   "cell_type": "markdown",
   "metadata": {},
   "source": [
    "#### F1 score"
   ]
  },
  {
   "cell_type": "code",
   "execution_count": 42,
   "metadata": {},
   "outputs": [
    {
     "data": {
      "text/plain": [
       "0.7159686846280463"
      ]
     },
     "execution_count": 42,
     "metadata": {},
     "output_type": "execute_result"
    }
   ],
   "source": [
    "KNN_f1 = metrics.f1_score(Y_test, KNN_pred, average='weighted', labels=np.unique(KNN_pred))\n",
    "KNN_f1"
   ]
  },
  {
   "cell_type": "markdown",
   "metadata": {},
   "source": [
    "#### Classification report"
   ]
  },
  {
   "cell_type": "code",
   "execution_count": 43,
   "metadata": {},
   "outputs": [
    {
     "name": "stdout",
     "output_type": "stream",
     "text": [
      "             precision    recall  f1-score   support\n",
      "\n",
      "          0       0.70      0.76      0.73       152\n",
      "          1       0.73      0.67      0.70       148\n",
      "\n",
      "avg / total       0.72      0.72      0.72       300\n",
      "\n"
     ]
    }
   ],
   "source": [
    "print(classification_report(Y_test, KNN_pred))"
   ]
  },
  {
   "cell_type": "markdown",
   "metadata": {},
   "source": [
    "## Support vector machine"
   ]
  },
  {
   "cell_type": "code",
   "execution_count": 44,
   "metadata": {},
   "outputs": [],
   "source": [
    "from sklearn.svm import SVC"
   ]
  },
  {
   "cell_type": "markdown",
   "metadata": {},
   "source": [
    "### (1)Linear SVC"
   ]
  },
  {
   "cell_type": "code",
   "execution_count": 45,
   "metadata": {},
   "outputs": [],
   "source": [
    "lsvc =SVC(kernel = \"linear\",degree=8)"
   ]
  },
  {
   "cell_type": "markdown",
   "metadata": {},
   "source": [
    "##### Fit the data"
   ]
  },
  {
   "cell_type": "code",
   "execution_count": 46,
   "metadata": {},
   "outputs": [
    {
     "data": {
      "text/plain": [
       "SVC(C=1.0, cache_size=200, class_weight=None, coef0=0.0,\n",
       "  decision_function_shape='ovr', degree=8, gamma='auto', kernel='linear',\n",
       "  max_iter=-1, probability=False, random_state=None, shrinking=True,\n",
       "  tol=0.001, verbose=False)"
      ]
     },
     "execution_count": 46,
     "metadata": {},
     "output_type": "execute_result"
    }
   ],
   "source": [
    "lsvc.fit(X_train,Y_train)"
   ]
  },
  {
   "cell_type": "markdown",
   "metadata": {},
   "source": [
    "#### Predict"
   ]
  },
  {
   "cell_type": "code",
   "execution_count": 47,
   "metadata": {},
   "outputs": [],
   "source": [
    "lsvc_pred = lsvc.predict(X_test)"
   ]
  },
  {
   "cell_type": "markdown",
   "metadata": {},
   "source": [
    "#### Accuracy"
   ]
  },
  {
   "cell_type": "code",
   "execution_count": 48,
   "metadata": {},
   "outputs": [
    {
     "data": {
      "text/plain": [
       "0.7566666666666667"
      ]
     },
     "execution_count": 48,
     "metadata": {},
     "output_type": "execute_result"
    }
   ],
   "source": [
    "lsvc_acc = metrics.accuracy_score(Y_test,lsvc_pred)\n",
    "lsvc_acc"
   ]
  },
  {
   "cell_type": "markdown",
   "metadata": {},
   "source": [
    "#### Confusion matrix"
   ]
  },
  {
   "cell_type": "code",
   "execution_count": 49,
   "metadata": {},
   "outputs": [
    {
     "name": "stdout",
     "output_type": "stream",
     "text": [
      "[[114  38]\n",
      " [ 35 113]]\n"
     ]
    }
   ],
   "source": [
    "matrix = confusion_matrix(Y_test,lsvc_pred)\n",
    "print(matrix)\n"
   ]
  },
  {
   "cell_type": "markdown",
   "metadata": {},
   "source": [
    "#### F1 score"
   ]
  },
  {
   "cell_type": "code",
   "execution_count": 50,
   "metadata": {},
   "outputs": [
    {
     "data": {
      "text/plain": [
       "0.7566747778679023"
      ]
     },
     "execution_count": 50,
     "metadata": {},
     "output_type": "execute_result"
    }
   ],
   "source": [
    "lsvc_f1 = metrics.f1_score(Y_test, lsvc_pred, average='weighted', labels=np.unique(lsvc_pred))\n",
    "lsvc_f1"
   ]
  },
  {
   "cell_type": "markdown",
   "metadata": {},
   "source": [
    "#### Classification report"
   ]
  },
  {
   "cell_type": "code",
   "execution_count": 51,
   "metadata": {},
   "outputs": [
    {
     "name": "stdout",
     "output_type": "stream",
     "text": [
      "             precision    recall  f1-score   support\n",
      "\n",
      "          0       0.77      0.75      0.76       152\n",
      "          1       0.75      0.76      0.76       148\n",
      "\n",
      "avg / total       0.76      0.76      0.76       300\n",
      "\n"
     ]
    }
   ],
   "source": [
    "print(classification_report(Y_test,lsvc_pred))"
   ]
  },
  {
   "cell_type": "markdown",
   "metadata": {},
   "source": [
    "### (2)Poly SVC"
   ]
  },
  {
   "cell_type": "code",
   "execution_count": 52,
   "metadata": {},
   "outputs": [],
   "source": [
    "psvc =SVC(kernel = \"poly\",degree= 8)"
   ]
  },
  {
   "cell_type": "markdown",
   "metadata": {},
   "source": [
    "##### Fit the data"
   ]
  },
  {
   "cell_type": "code",
   "execution_count": 53,
   "metadata": {},
   "outputs": [
    {
     "data": {
      "text/plain": [
       "SVC(C=1.0, cache_size=200, class_weight=None, coef0=0.0,\n",
       "  decision_function_shape='ovr', degree=8, gamma='auto', kernel='poly',\n",
       "  max_iter=-1, probability=False, random_state=None, shrinking=True,\n",
       "  tol=0.001, verbose=False)"
      ]
     },
     "execution_count": 53,
     "metadata": {},
     "output_type": "execute_result"
    }
   ],
   "source": [
    "psvc.fit(X_train,Y_train)"
   ]
  },
  {
   "cell_type": "markdown",
   "metadata": {},
   "source": [
    "#### Predict"
   ]
  },
  {
   "cell_type": "code",
   "execution_count": 54,
   "metadata": {},
   "outputs": [],
   "source": [
    "psvc_pred = psvc.predict(X_test)"
   ]
  },
  {
   "cell_type": "markdown",
   "metadata": {},
   "source": [
    "#### Accuracy"
   ]
  },
  {
   "cell_type": "code",
   "execution_count": 55,
   "metadata": {},
   "outputs": [
    {
     "data": {
      "text/plain": [
       "0.49333333333333335"
      ]
     },
     "execution_count": 55,
     "metadata": {},
     "output_type": "execute_result"
    }
   ],
   "source": [
    "psvc_acc = metrics.accuracy_score(Y_test,psvc_pred)\n",
    "psvc_acc"
   ]
  },
  {
   "cell_type": "markdown",
   "metadata": {},
   "source": [
    "#### Confusion matrix"
   ]
  },
  {
   "cell_type": "code",
   "execution_count": 56,
   "metadata": {},
   "outputs": [
    {
     "name": "stdout",
     "output_type": "stream",
     "text": [
      "[[  0 152]\n",
      " [  0 148]]\n"
     ]
    }
   ],
   "source": [
    "matrix = confusion_matrix(Y_test,psvc_pred)\n",
    "print(matrix)\n"
   ]
  },
  {
   "cell_type": "markdown",
   "metadata": {},
   "source": [
    "#### F1 score"
   ]
  },
  {
   "cell_type": "code",
   "execution_count": 57,
   "metadata": {},
   "outputs": [
    {
     "data": {
      "text/plain": [
       "0.6607142857142857"
      ]
     },
     "execution_count": 57,
     "metadata": {},
     "output_type": "execute_result"
    }
   ],
   "source": [
    "psvc_f1 = metrics.f1_score(Y_test, psvc_pred, average='weighted', labels=np.unique(psvc_pred))\n",
    "psvc_f1"
   ]
  },
  {
   "cell_type": "markdown",
   "metadata": {},
   "source": [
    "#### Classification report"
   ]
  },
  {
   "cell_type": "code",
   "execution_count": 58,
   "metadata": {},
   "outputs": [
    {
     "name": "stdout",
     "output_type": "stream",
     "text": [
      "             precision    recall  f1-score   support\n",
      "\n",
      "          0       0.00      0.00      0.00       152\n",
      "          1       0.49      1.00      0.66       148\n",
      "\n",
      "avg / total       0.24      0.49      0.33       300\n",
      "\n"
     ]
    },
    {
     "name": "stderr",
     "output_type": "stream",
     "text": [
      "C:\\Users\\NIK\\Anaconda3\\lib\\site-packages\\sklearn\\metrics\\classification.py:1135: UndefinedMetricWarning: Precision and F-score are ill-defined and being set to 0.0 in labels with no predicted samples.\n",
      "  'precision', 'predicted', average, warn_for)\n"
     ]
    }
   ],
   "source": [
    "print(classification_report(Y_test,psvc_pred))"
   ]
  },
  {
   "cell_type": "markdown",
   "metadata": {},
   "source": [
    "### (3)Gaussian SVC"
   ]
  },
  {
   "cell_type": "code",
   "execution_count": 59,
   "metadata": {},
   "outputs": [],
   "source": [
    "gsvc = SVC(kernel = 'rbf')"
   ]
  },
  {
   "cell_type": "markdown",
   "metadata": {},
   "source": [
    "##### Fit the data"
   ]
  },
  {
   "cell_type": "code",
   "execution_count": 60,
   "metadata": {},
   "outputs": [
    {
     "data": {
      "text/plain": [
       "SVC(C=1.0, cache_size=200, class_weight=None, coef0=0.0,\n",
       "  decision_function_shape='ovr', degree=3, gamma='auto', kernel='rbf',\n",
       "  max_iter=-1, probability=False, random_state=None, shrinking=True,\n",
       "  tol=0.001, verbose=False)"
      ]
     },
     "execution_count": 60,
     "metadata": {},
     "output_type": "execute_result"
    }
   ],
   "source": [
    "gsvc.fit(X_train, Y_train)"
   ]
  },
  {
   "cell_type": "markdown",
   "metadata": {},
   "source": [
    "#### Predict"
   ]
  },
  {
   "cell_type": "code",
   "execution_count": 61,
   "metadata": {},
   "outputs": [],
   "source": [
    "gsvc_pred = gsvc.predict(X_test)"
   ]
  },
  {
   "cell_type": "markdown",
   "metadata": {},
   "source": [
    "#### Accuracy"
   ]
  },
  {
   "cell_type": "code",
   "execution_count": 62,
   "metadata": {},
   "outputs": [
    {
     "data": {
      "text/plain": [
       "0.49333333333333335"
      ]
     },
     "execution_count": 62,
     "metadata": {},
     "output_type": "execute_result"
    }
   ],
   "source": [
    "gsvc_acc = metrics.accuracy_score(gsvc_pred, Y_test)\n",
    "gsvc_acc"
   ]
  },
  {
   "cell_type": "markdown",
   "metadata": {},
   "source": [
    "#### Confusion matrix"
   ]
  },
  {
   "cell_type": "code",
   "execution_count": 63,
   "metadata": {},
   "outputs": [
    {
     "data": {
      "text/plain": [
       "array([[  0, 152],\n",
       "       [  0, 148]], dtype=int64)"
      ]
     },
     "execution_count": 63,
     "metadata": {},
     "output_type": "execute_result"
    }
   ],
   "source": [
    "gsvc_mat = confusion_matrix(Y_test, gsvc_pred)\n",
    "gsvc_mat"
   ]
  },
  {
   "cell_type": "markdown",
   "metadata": {},
   "source": [
    "#### F1 score"
   ]
  },
  {
   "cell_type": "code",
   "execution_count": 64,
   "metadata": {},
   "outputs": [
    {
     "data": {
      "text/plain": [
       "0.6607142857142857"
      ]
     },
     "execution_count": 64,
     "metadata": {},
     "output_type": "execute_result"
    }
   ],
   "source": [
    "gsvc_f1 =  metrics.f1_score(Y_test, gsvc_pred, average='weighted', labels=np.unique(gsvc_pred))\n",
    "gsvc_f1"
   ]
  },
  {
   "cell_type": "markdown",
   "metadata": {},
   "source": [
    "#### Classification report"
   ]
  },
  {
   "cell_type": "code",
   "execution_count": 65,
   "metadata": {},
   "outputs": [
    {
     "name": "stdout",
     "output_type": "stream",
     "text": [
      "             precision    recall  f1-score   support\n",
      "\n",
      "          0       0.00      0.00      0.00       152\n",
      "          1       0.49      1.00      0.66       148\n",
      "\n",
      "avg / total       0.24      0.49      0.33       300\n",
      "\n"
     ]
    },
    {
     "name": "stderr",
     "output_type": "stream",
     "text": [
      "C:\\Users\\NIK\\Anaconda3\\lib\\site-packages\\sklearn\\metrics\\classification.py:1135: UndefinedMetricWarning: Precision and F-score are ill-defined and being set to 0.0 in labels with no predicted samples.\n",
      "  'precision', 'predicted', average, warn_for)\n"
     ]
    }
   ],
   "source": [
    "print(classification_report(Y_test, gsvc_pred))"
   ]
  },
  {
   "cell_type": "markdown",
   "metadata": {},
   "source": [
    "## Decision Tree Classifier"
   ]
  },
  {
   "cell_type": "code",
   "execution_count": 66,
   "metadata": {},
   "outputs": [],
   "source": [
    "from sklearn.tree import DecisionTreeClassifier"
   ]
  },
  {
   "cell_type": "markdown",
   "metadata": {},
   "source": [
    "##### Fit the data"
   ]
  },
  {
   "cell_type": "code",
   "execution_count": 67,
   "metadata": {},
   "outputs": [
    {
     "data": {
      "text/plain": [
       "DecisionTreeClassifier(class_weight=None, criterion='gini', max_depth=None,\n",
       "            max_features=None, max_leaf_nodes=None,\n",
       "            min_impurity_decrease=0.0, min_impurity_split=None,\n",
       "            min_samples_leaf=1, min_samples_split=2,\n",
       "            min_weight_fraction_leaf=0.0, presort=False, random_state=None,\n",
       "            splitter='best')"
      ]
     },
     "execution_count": 67,
     "metadata": {},
     "output_type": "execute_result"
    }
   ],
   "source": [
    "dtree = DecisionTreeClassifier()\n",
    "dtree.fit(X_train, Y_train)"
   ]
  },
  {
   "cell_type": "markdown",
   "metadata": {},
   "source": [
    "#### Predict"
   ]
  },
  {
   "cell_type": "code",
   "execution_count": 68,
   "metadata": {},
   "outputs": [],
   "source": [
    "dtree_pred = dtree.predict(X_test)"
   ]
  },
  {
   "cell_type": "markdown",
   "metadata": {},
   "source": [
    "#### Accuracy"
   ]
  },
  {
   "cell_type": "code",
   "execution_count": 69,
   "metadata": {},
   "outputs": [
    {
     "data": {
      "text/plain": [
       "0.5966666666666667"
      ]
     },
     "execution_count": 69,
     "metadata": {},
     "output_type": "execute_result"
    }
   ],
   "source": [
    "dtree_acc = metrics.accuracy_score(Y_test, dtree_pred)\n",
    "dtree_acc"
   ]
  },
  {
   "cell_type": "markdown",
   "metadata": {},
   "source": [
    "#### Confusion matrix"
   ]
  },
  {
   "cell_type": "code",
   "execution_count": 70,
   "metadata": {},
   "outputs": [
    {
     "data": {
      "text/plain": [
       "array([[83, 69],\n",
       "       [52, 96]], dtype=int64)"
      ]
     },
     "execution_count": 70,
     "metadata": {},
     "output_type": "execute_result"
    }
   ],
   "source": [
    "dtree_mat = confusion_matrix(Y_test, dtree_pred)\n",
    "dtree_mat"
   ]
  },
  {
   "cell_type": "markdown",
   "metadata": {},
   "source": [
    "#### F1 score"
   ]
  },
  {
   "cell_type": "code",
   "execution_count": 71,
   "metadata": {},
   "outputs": [
    {
     "data": {
      "text/plain": [
       "0.6134185303514377"
      ]
     },
     "execution_count": 71,
     "metadata": {},
     "output_type": "execute_result"
    }
   ],
   "source": [
    "dtree_f1 = metrics.f1_score(Y_test, dtree_pred)\n",
    "dtree_f1"
   ]
  },
  {
   "cell_type": "markdown",
   "metadata": {},
   "source": [
    "#### Classification report"
   ]
  },
  {
   "cell_type": "code",
   "execution_count": 72,
   "metadata": {},
   "outputs": [
    {
     "name": "stdout",
     "output_type": "stream",
     "text": [
      "             precision    recall  f1-score   support\n",
      "\n",
      "          0       0.61      0.55      0.58       152\n",
      "          1       0.58      0.65      0.61       148\n",
      "\n",
      "avg / total       0.60      0.60      0.60       300\n",
      "\n"
     ]
    }
   ],
   "source": [
    "print(classification_report(Y_test, dtree_pred))"
   ]
  },
  {
   "cell_type": "markdown",
   "metadata": {},
   "source": [
    "## Random Forest Classifier"
   ]
  },
  {
   "cell_type": "code",
   "execution_count": 73,
   "metadata": {},
   "outputs": [],
   "source": [
    "from sklearn.ensemble import RandomForestClassifier\n",
    "rand = RandomForestClassifier(n_estimators=100, n_jobs=2, random_state=7)"
   ]
  },
  {
   "cell_type": "markdown",
   "metadata": {},
   "source": [
    "##### Fit the data"
   ]
  },
  {
   "cell_type": "code",
   "execution_count": 74,
   "metadata": {},
   "outputs": [
    {
     "data": {
      "text/plain": [
       "RandomForestClassifier(bootstrap=True, class_weight=None, criterion='gini',\n",
       "            max_depth=None, max_features='auto', max_leaf_nodes=None,\n",
       "            min_impurity_decrease=0.0, min_impurity_split=None,\n",
       "            min_samples_leaf=1, min_samples_split=2,\n",
       "            min_weight_fraction_leaf=0.0, n_estimators=100, n_jobs=2,\n",
       "            oob_score=False, random_state=7, verbose=0, warm_start=False)"
      ]
     },
     "execution_count": 74,
     "metadata": {},
     "output_type": "execute_result"
    }
   ],
   "source": [
    "rand.fit(X_train , Y_train)"
   ]
  },
  {
   "cell_type": "markdown",
   "metadata": {},
   "source": [
    "#### Predict"
   ]
  },
  {
   "cell_type": "code",
   "execution_count": 75,
   "metadata": {},
   "outputs": [],
   "source": [
    "rand_pred = rand.predict(X_test)"
   ]
  },
  {
   "cell_type": "markdown",
   "metadata": {},
   "source": [
    "#### Accuracy"
   ]
  },
  {
   "cell_type": "code",
   "execution_count": 76,
   "metadata": {},
   "outputs": [
    {
     "data": {
      "text/plain": [
       "0.6833333333333333"
      ]
     },
     "execution_count": 76,
     "metadata": {},
     "output_type": "execute_result"
    }
   ],
   "source": [
    "rand_acc = metrics.accuracy_score(Y_test, rand_pred)\n",
    "rand_acc"
   ]
  },
  {
   "cell_type": "markdown",
   "metadata": {},
   "source": [
    "#### Confusion matrix"
   ]
  },
  {
   "cell_type": "code",
   "execution_count": 77,
   "metadata": {},
   "outputs": [
    {
     "data": {
      "text/plain": [
       "array([[105,  47],\n",
       "       [ 48, 100]], dtype=int64)"
      ]
     },
     "execution_count": 77,
     "metadata": {},
     "output_type": "execute_result"
    }
   ],
   "source": [
    "rand_mat = confusion_matrix(Y_test, rand_pred)\n",
    "rand_mat"
   ]
  },
  {
   "cell_type": "markdown",
   "metadata": {},
   "source": [
    "#### F1 score"
   ]
  },
  {
   "cell_type": "code",
   "execution_count": 78,
   "metadata": {},
   "outputs": [
    {
     "data": {
      "text/plain": [
       "0.6779661016949152"
      ]
     },
     "execution_count": 78,
     "metadata": {},
     "output_type": "execute_result"
    }
   ],
   "source": [
    "rand_f1 = metrics.f1_score(Y_test, rand_pred)\n",
    "rand_f1"
   ]
  },
  {
   "cell_type": "markdown",
   "metadata": {},
   "source": [
    "#### Classification report"
   ]
  },
  {
   "cell_type": "code",
   "execution_count": 79,
   "metadata": {},
   "outputs": [
    {
     "name": "stdout",
     "output_type": "stream",
     "text": [
      "             precision    recall  f1-score   support\n",
      "\n",
      "          0       0.69      0.69      0.69       152\n",
      "          1       0.68      0.68      0.68       148\n",
      "\n",
      "avg / total       0.68      0.68      0.68       300\n",
      "\n"
     ]
    }
   ],
   "source": [
    "print(classification_report(Y_test, rand_pred))"
   ]
  },
  {
   "cell_type": "markdown",
   "metadata": {},
   "source": [
    "## Voting Classifier"
   ]
  },
  {
   "cell_type": "code",
   "execution_count": 80,
   "metadata": {},
   "outputs": [],
   "source": [
    "from sklearn.linear_model import LogisticRegression\n",
    "from sklearn.svm import SVC\n",
    "from sklearn.cluster import KMeans\n",
    "from sklearn.neighbors import KNeighborsClassifier\n",
    "from sklearn.ensemble import VotingClassifier"
   ]
  },
  {
   "cell_type": "code",
   "execution_count": 81,
   "metadata": {},
   "outputs": [],
   "source": [
    "estimators =[]\n",
    "model = LogisticRegression()\n",
    "estimators.append(('logistic',model))\n",
    "model1 = SVC(kernel = 'rbf')\n",
    "estimators.append(('SVC',model1))\n",
    "model2 = KMeans()\n",
    "estimators.append(('KMeans',model2))\n",
    "model3 = KNeighborsClassifier()\n",
    "estimators.append(('KNN',model3))\n",
    "voting = VotingClassifier(estimators)"
   ]
  },
  {
   "cell_type": "markdown",
   "metadata": {},
   "source": [
    "##### Fit the data"
   ]
  },
  {
   "cell_type": "code",
   "execution_count": 82,
   "metadata": {},
   "outputs": [
    {
     "data": {
      "text/plain": [
       "VotingClassifier(estimators=[('logistic', LogisticRegression(C=1.0, class_weight=None, dual=False, fit_intercept=True,\n",
       "          intercept_scaling=1, max_iter=100, multi_class='ovr', n_jobs=1,\n",
       "          penalty='l2', random_state=None, solver='liblinear', tol=0.0001,\n",
       "          verbose=0, warm_start=False)), ('SVC', ...owski',\n",
       "           metric_params=None, n_jobs=1, n_neighbors=5, p=2,\n",
       "           weights='uniform'))],\n",
       "         flatten_transform=None, n_jobs=1, voting='hard', weights=None)"
      ]
     },
     "execution_count": 82,
     "metadata": {},
     "output_type": "execute_result"
    }
   ],
   "source": [
    "voting.fit(X_train, Y_train)"
   ]
  },
  {
   "cell_type": "markdown",
   "metadata": {},
   "source": [
    "#### Predict"
   ]
  },
  {
   "cell_type": "code",
   "execution_count": 83,
   "metadata": {},
   "outputs": [
    {
     "name": "stderr",
     "output_type": "stream",
     "text": [
      "C:\\Users\\NIK\\Anaconda3\\lib\\site-packages\\sklearn\\preprocessing\\label.py:151: DeprecationWarning: The truth value of an empty array is ambiguous. Returning False, but in future this will result in an error. Use `array.size > 0` to check that an array is not empty.\n",
      "  if diff:\n"
     ]
    }
   ],
   "source": [
    "voting_pred = voting.predict(X_test)"
   ]
  },
  {
   "cell_type": "markdown",
   "metadata": {},
   "source": [
    "#### Accuracy"
   ]
  },
  {
   "cell_type": "code",
   "execution_count": 84,
   "metadata": {},
   "outputs": [
    {
     "data": {
      "text/plain": [
       "0.7266666666666667"
      ]
     },
     "execution_count": 84,
     "metadata": {},
     "output_type": "execute_result"
    }
   ],
   "source": [
    "voting_acc = metrics.accuracy_score(Y_test,voting_pred)\n",
    "voting_acc"
   ]
  },
  {
   "cell_type": "markdown",
   "metadata": {},
   "source": [
    "#### Confusion matrix"
   ]
  },
  {
   "cell_type": "code",
   "execution_count": 85,
   "metadata": {},
   "outputs": [
    {
     "data": {
      "text/plain": [
       "array([[ 97,  55],\n",
       "       [ 27, 121]], dtype=int64)"
      ]
     },
     "execution_count": 85,
     "metadata": {},
     "output_type": "execute_result"
    }
   ],
   "source": [
    "voting_mat = confusion_matrix(Y_test, voting_pred)\n",
    "voting_mat"
   ]
  },
  {
   "cell_type": "markdown",
   "metadata": {},
   "source": [
    "#### F1 score"
   ]
  },
  {
   "cell_type": "code",
   "execution_count": 86,
   "metadata": {},
   "outputs": [
    {
     "data": {
      "text/plain": [
       "0.7469135802469135"
      ]
     },
     "execution_count": 86,
     "metadata": {},
     "output_type": "execute_result"
    }
   ],
   "source": [
    "voting_f1 = metrics.f1_score(Y_test, voting_pred)\n",
    "voting_f1\n"
   ]
  },
  {
   "cell_type": "markdown",
   "metadata": {},
   "source": [
    "#### Classification report"
   ]
  },
  {
   "cell_type": "code",
   "execution_count": 87,
   "metadata": {},
   "outputs": [
    {
     "name": "stdout",
     "output_type": "stream",
     "text": [
      "             precision    recall  f1-score   support\n",
      "\n",
      "          0       0.78      0.64      0.70       152\n",
      "          1       0.69      0.82      0.75       148\n",
      "\n",
      "avg / total       0.74      0.73      0.72       300\n",
      "\n"
     ]
    }
   ],
   "source": [
    "print(classification_report(Y_test, voting_pred))"
   ]
  },
  {
   "cell_type": "markdown",
   "metadata": {},
   "source": [
    "# Comparing the accuracy of the classifiers using different standard classification metrics.\n"
   ]
  },
  {
   "cell_type": "code",
   "execution_count": 88,
   "metadata": {},
   "outputs": [],
   "source": [
    "Algo_name = [\"Multinolmial Naive Bayes\",\"Bernoulli Naive Bayes\",\"Gaussain Naive Bayes\",\"KNN\",\"Linear SVC\",\"Poly SVC\",\n",
    "             \"Gaussian SVC\",\"Decision Tree Classifier\",\"Random Forest Classifier\",\"Voting Classifier\"]\n",
    "accuracy = [multi_acc,bern_acc,gauss_acc,KNN_acc,lsvc_acc,psvc_acc,gsvc_acc,dtree_acc,rand_acc,voting_acc]"
   ]
  },
  {
   "cell_type": "code",
   "execution_count": 89,
   "metadata": {},
   "outputs": [
    {
     "data": {
      "text/html": [
       "<div>\n",
       "<style scoped>\n",
       "    .dataframe tbody tr th:only-of-type {\n",
       "        vertical-align: middle;\n",
       "    }\n",
       "\n",
       "    .dataframe tbody tr th {\n",
       "        vertical-align: top;\n",
       "    }\n",
       "\n",
       "    .dataframe thead th {\n",
       "        text-align: right;\n",
       "    }\n",
       "</style>\n",
       "<table border=\"1\" class=\"dataframe\">\n",
       "  <thead>\n",
       "    <tr style=\"text-align: right;\">\n",
       "      <th></th>\n",
       "      <th>Algorithms</th>\n",
       "      <th>Accuracy</th>\n",
       "    </tr>\n",
       "  </thead>\n",
       "  <tbody>\n",
       "    <tr>\n",
       "      <th>1</th>\n",
       "      <td>Multinolmial Naive Bayes</td>\n",
       "      <td>0.776667</td>\n",
       "    </tr>\n",
       "    <tr>\n",
       "      <th>2</th>\n",
       "      <td>Bernoulli Naive Bayes</td>\n",
       "      <td>0.766667</td>\n",
       "    </tr>\n",
       "    <tr>\n",
       "      <th>3</th>\n",
       "      <td>Gaussain Naive Bayes</td>\n",
       "      <td>0.660000</td>\n",
       "    </tr>\n",
       "    <tr>\n",
       "      <th>4</th>\n",
       "      <td>KNN</td>\n",
       "      <td>0.716667</td>\n",
       "    </tr>\n",
       "    <tr>\n",
       "      <th>5</th>\n",
       "      <td>Linear SVC</td>\n",
       "      <td>0.756667</td>\n",
       "    </tr>\n",
       "    <tr>\n",
       "      <th>6</th>\n",
       "      <td>Poly SVC</td>\n",
       "      <td>0.493333</td>\n",
       "    </tr>\n",
       "    <tr>\n",
       "      <th>7</th>\n",
       "      <td>Gaussian SVC</td>\n",
       "      <td>0.493333</td>\n",
       "    </tr>\n",
       "    <tr>\n",
       "      <th>8</th>\n",
       "      <td>Decision Tree Classifier</td>\n",
       "      <td>0.596667</td>\n",
       "    </tr>\n",
       "    <tr>\n",
       "      <th>9</th>\n",
       "      <td>Random Forest Classifier</td>\n",
       "      <td>0.683333</td>\n",
       "    </tr>\n",
       "    <tr>\n",
       "      <th>10</th>\n",
       "      <td>Voting Classifier</td>\n",
       "      <td>0.726667</td>\n",
       "    </tr>\n",
       "  </tbody>\n",
       "</table>\n",
       "</div>"
      ],
      "text/plain": [
       "                  Algorithms  Accuracy\n",
       "1   Multinolmial Naive Bayes  0.776667\n",
       "2      Bernoulli Naive Bayes  0.766667\n",
       "3       Gaussain Naive Bayes  0.660000\n",
       "4                        KNN  0.716667\n",
       "5                 Linear SVC  0.756667\n",
       "6                   Poly SVC  0.493333\n",
       "7               Gaussian SVC  0.493333\n",
       "8   Decision Tree Classifier  0.596667\n",
       "9   Random Forest Classifier  0.683333\n",
       "10         Voting Classifier  0.726667"
      ]
     },
     "execution_count": 89,
     "metadata": {},
     "output_type": "execute_result"
    }
   ],
   "source": [
    "res2 = pd.DataFrame({\"Algorithms\":Algo_name, \"Accuracy\":accuracy}, index = [1,2,3,4,5,6,7,8,9,10])\n",
    "res2"
   ]
  },
  {
   "cell_type": "code",
   "execution_count": null,
   "metadata": {},
   "outputs": [],
   "source": []
  }
 ],
 "metadata": {
  "kernelspec": {
   "display_name": "Python 3",
   "language": "python",
   "name": "python3"
  },
  "language_info": {
   "codemirror_mode": {
    "name": "ipython",
    "version": 3
   },
   "file_extension": ".py",
   "mimetype": "text/x-python",
   "name": "python",
   "nbconvert_exporter": "python",
   "pygments_lexer": "ipython3",
   "version": "3.6.5"
  }
 },
 "nbformat": 4,
 "nbformat_minor": 2
}
